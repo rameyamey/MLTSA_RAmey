{
  "nbformat": 4,
  "nbformat_minor": 0,
  "metadata": {
    "kernelspec": {
      "display_name": "Python 3",
      "language": "python",
      "name": "python3"
    },
    "language_info": {
      "codemirror_mode": {
        "name": "ipython",
        "version": 3
      },
      "file_extension": ".py",
      "mimetype": "text/x-python",
      "name": "python",
      "nbconvert_exporter": "python",
      "pygments_lexer": "ipython3",
      "version": "3.7.3"
    },
    "latex_envs": {
      "LaTeX_envs_menu_present": true,
      "autoclose": false,
      "autocomplete": true,
      "bibliofile": "biblio.bib",
      "cite_by": "apalike",
      "current_citInitial": 1,
      "eqLabelWithNumbers": true,
      "eqNumInitial": 1,
      "hotkeys": {
        "equation": "Ctrl-E",
        "itemize": "Ctrl-I"
      },
      "labels_anchors": false,
      "latex_user_defs": false,
      "report_style_numbering": false,
      "user_envs_cfg": false
    },
    "nbTranslate": {
      "displayLangs": [
        "*"
      ],
      "hotkey": "alt-t",
      "langInMainMenu": true,
      "sourceLang": "en",
      "targetLang": "fr",
      "useGoogleTranslate": true
    },
    "toc": {
      "base_numbering": 1,
      "nav_menu": {},
      "number_sections": true,
      "sideBar": true,
      "skip_h1_title": false,
      "title_cell": "Table of Contents",
      "title_sidebar": "Contents",
      "toc_cell": false,
      "toc_position": {},
      "toc_section_display": true,
      "toc_window_display": false
    },
    "colab": {
      "name": "ClimateBSTS_instructions_start.ipynb",
      "provenance": []
    }
  },
  "cells": [
    {
      "cell_type": "code",
      "metadata": {
        "ExecuteTime": {
          "end_time": "2020-02-28T13:25:21.956990Z",
          "start_time": "2020-02-28T13:25:20.741770Z"
        },
        "id": "eF_e2y8mu9W4",
        "colab_type": "code",
        "outputId": "a2edb108-28ee-4c95-cae1-391db75b2fdb",
        "colab": {
          "base_uri": "https://localhost:8080/",
          "height": 34
        }
      },
      "source": [
        "import pandas as pd\n",
        "import pylab as pl\n",
        "import numpy as np\n",
        "%pylab inline"
      ],
      "execution_count": 1,
      "outputs": [
        {
          "output_type": "stream",
          "text": [
            "Populating the interactive namespace from numpy and matplotlib\n"
          ],
          "name": "stdout"
        }
      ]
    },
    {
      "cell_type": "code",
      "metadata": {
        "id": "9tnANQib8apB",
        "colab_type": "code",
        "outputId": "8b914b13-07ad-41f3-9bd3-515792fc20ff",
        "colab": {
          "base_uri": "https://localhost:8080/",
          "height": 336
        }
      },
      "source": [
        "! pip install pydlm\n",
        "from pydlm import dlm, trend, seasonality, dynamic"
      ],
      "execution_count": 2,
      "outputs": [
        {
          "output_type": "stream",
          "text": [
            "Collecting pydlm\n",
            "\u001b[?25l  Downloading https://files.pythonhosted.org/packages/3f/a5/9741f8ea14f13d8f1f40946cf1c7a3cbdd6cea9ea631a3b24faab1a79203/pydlm-0.1.1.11.tar.gz (46kB)\n",
            "\r\u001b[K     |███████▏                        | 10kB 19.7MB/s eta 0:00:01\r\u001b[K     |██████████████▎                 | 20kB 3.1MB/s eta 0:00:01\r\u001b[K     |█████████████████████▍          | 30kB 4.5MB/s eta 0:00:01\r\u001b[K     |████████████████████████████▌   | 40kB 2.9MB/s eta 0:00:01\r\u001b[K     |████████████████████████████████| 51kB 2.5MB/s \n",
            "\u001b[?25hRequirement already satisfied: numpy in /usr/local/lib/python3.6/dist-packages (from pydlm) (1.17.5)\n",
            "Requirement already satisfied: matplotlib in /usr/local/lib/python3.6/dist-packages (from pydlm) (3.1.3)\n",
            "Requirement already satisfied: cycler>=0.10 in /usr/local/lib/python3.6/dist-packages (from matplotlib->pydlm) (0.10.0)\n",
            "Requirement already satisfied: pyparsing!=2.0.4,!=2.1.2,!=2.1.6,>=2.0.1 in /usr/local/lib/python3.6/dist-packages (from matplotlib->pydlm) (2.4.6)\n",
            "Requirement already satisfied: kiwisolver>=1.0.1 in /usr/local/lib/python3.6/dist-packages (from matplotlib->pydlm) (1.1.0)\n",
            "Requirement already satisfied: python-dateutil>=2.1 in /usr/local/lib/python3.6/dist-packages (from matplotlib->pydlm) (2.6.1)\n",
            "Requirement already satisfied: six in /usr/local/lib/python3.6/dist-packages (from cycler>=0.10->matplotlib->pydlm) (1.12.0)\n",
            "Requirement already satisfied: setuptools in /usr/local/lib/python3.6/dist-packages (from kiwisolver>=1.0.1->matplotlib->pydlm) (45.2.0)\n",
            "Building wheels for collected packages: pydlm\n",
            "  Building wheel for pydlm (setup.py) ... \u001b[?25l\u001b[?25hdone\n",
            "  Created wheel for pydlm: filename=pydlm-0.1.1.11-py2.py3-none-any.whl size=58997 sha256=7f078a5738ee93adcec949c5319fd8e867a526fe0a7924fdff4a3e89ac4639f9\n",
            "  Stored in directory: /root/.cache/pip/wheels/69/d3/ca/f5a7bc0976a2779bf87c20f82a9adece40616ee3b9d39bf410\n",
            "Successfully built pydlm\n",
            "Installing collected packages: pydlm\n",
            "Successfully installed pydlm-0.1.1.11\n"
          ],
          "name": "stdout"
        }
      ]
    },
    {
      "cell_type": "markdown",
      "metadata": {
        "id": "Err7cINC7CUf",
        "colab_type": "text"
      },
      "source": [
        "# Data acquisition and pre-processing\n",
        "\n",
        "## CO2"
      ]
    },
    {
      "cell_type": "code",
      "metadata": {
        "id": "JKx73mE3xSl6",
        "colab_type": "code",
        "colab": {}
      },
      "source": [
        "from google.colab import drive\n",
        "\n"
      ],
      "execution_count": 0,
      "outputs": []
    },
    {
      "cell_type": "code",
      "metadata": {
        "id": "SqWKciVJ-IBd",
        "colab_type": "code",
        "outputId": "f7cd5a0f-0fed-46d1-eb2a-f18a4783d5bd",
        "colab": {
          "base_uri": "https://localhost:8080/",
          "height": 34
        }
      },
      "source": [
        "drive.mount(\"/content/gdrive\")\n"
      ],
      "execution_count": 19,
      "outputs": [
        {
          "output_type": "stream",
          "text": [
            "Drive already mounted at /content/gdrive; to attempt to forcibly remount, call drive.mount(\"/content/gdrive\", force_remount=True).\n"
          ],
          "name": "stdout"
        }
      ]
    },
    {
      "cell_type": "code",
      "metadata": {
        "id": "wB-VrLIJ-VEc",
        "colab_type": "code",
        "outputId": "f1aa4dcb-2184-4bb9-bebd-5e7ca525e5c2",
        "colab": {
          "base_uri": "https://localhost:8080/",
          "height": 34
        }
      },
      "source": [
        "cd MLTSA2020/"
      ],
      "execution_count": 22,
      "outputs": [
        {
          "output_type": "stream",
          "text": [
            "/content/gdrive/My Drive/MLTSA2020\n"
          ],
          "name": "stdout"
        }
      ]
    },
    {
      "cell_type": "markdown",
      "metadata": {
        "id": "xTBN1pS5we8U",
        "colab_type": "text"
      },
      "source": [
        "acquire the Co2 emission data from the world bank. save it on your drive and read it in\n",
        "The file should be called API_EN.ATM.CO2E.PC_DS2_en_csv_v2_713061.csv and should be store on your google drive in MLTSA/data.\n",
        "\n",
        "Choose the \"world\" row and transpose the file so that it has one column, world, which you should rename \"co2\", and N rows for N years. Make sure the years are readin as datetime data type (you can use pd.to_datetime(... format=\"%Y\") \n"
      ]
    },
    {
      "cell_type": "code",
      "metadata": {
        "id": "q1h26jMMylZO",
        "colab_type": "code",
        "outputId": "9edb23e1-0a71-4f6f-990e-09f100787b98",
        "colab": {
          "base_uri": "https://localhost:8080/",
          "height": 52
        }
      },
      "source": [
        "!ls"
      ],
      "execution_count": 27,
      "outputs": [
        {
          "output_type": "stream",
          "text": [
            "API_EN.ATM.CO2E.PC_DS2_en_csv_v2_821708.csv\n",
            "API_EN.ATM.CO2E.PC_DS2_en_csv_v2_821708.gsheet\n"
          ],
          "name": "stdout"
        }
      ]
    },
    {
      "cell_type": "code",
      "metadata": {
        "id": "SikHBlGXCZ5X",
        "colab_type": "code",
        "outputId": "c8eadce7-bb33-4d2b-ceb4-a04069cb3b7f",
        "colab": {
          "base_uri": "https://localhost:8080/",
          "height": 34
        }
      },
      "source": [
        "cd data\n"
      ],
      "execution_count": 25,
      "outputs": [
        {
          "output_type": "stream",
          "text": [
            "/content/gdrive/My Drive/MLTSA2020/data\n"
          ],
          "name": "stdout"
        }
      ]
    },
    {
      "cell_type": "code",
      "metadata": {
        "id": "YzRhk7ZNweF8",
        "colab_type": "code",
        "colab": {}
      },
      "source": [
        "co2 = pd.read_csv('API_EN.ATM.CO2E.PC_DS2_en_csv_v2_821708.csv')"
      ],
      "execution_count": 0,
      "outputs": []
    },
    {
      "cell_type": "code",
      "metadata": {
        "ExecuteTime": {
          "end_time": "2020-02-27T23:56:53.207144Z",
          "start_time": "2020-02-27T23:56:53.202017Z"
        },
        "id": "t0soum_-u9XE",
        "colab_type": "code",
        "outputId": "a93307d7-4685-4f54-8129-2d02938c1699",
        "colab": {
          "base_uri": "https://localhost:8080/",
          "height": 307
        }
      },
      "source": [
        "co2.describe()"
      ],
      "execution_count": 29,
      "outputs": [
        {
          "output_type": "execute_result",
          "data": {
            "text/html": [
              "<div>\n",
              "<style scoped>\n",
              "    .dataframe tbody tr th:only-of-type {\n",
              "        vertical-align: middle;\n",
              "    }\n",
              "\n",
              "    .dataframe tbody tr th {\n",
              "        vertical-align: top;\n",
              "    }\n",
              "\n",
              "    .dataframe thead th {\n",
              "        text-align: right;\n",
              "    }\n",
              "</style>\n",
              "<table border=\"1\" class=\"dataframe\">\n",
              "  <thead>\n",
              "    <tr style=\"text-align: right;\">\n",
              "      <th></th>\n",
              "      <th>1960</th>\n",
              "      <th>1961</th>\n",
              "      <th>1962</th>\n",
              "      <th>1963</th>\n",
              "      <th>1964</th>\n",
              "      <th>1965</th>\n",
              "      <th>1966</th>\n",
              "      <th>1967</th>\n",
              "      <th>1968</th>\n",
              "      <th>1969</th>\n",
              "      <th>1970</th>\n",
              "      <th>1971</th>\n",
              "      <th>1972</th>\n",
              "      <th>1973</th>\n",
              "      <th>1974</th>\n",
              "      <th>1975</th>\n",
              "      <th>1976</th>\n",
              "      <th>1977</th>\n",
              "      <th>1978</th>\n",
              "      <th>1979</th>\n",
              "      <th>1980</th>\n",
              "      <th>1981</th>\n",
              "      <th>1982</th>\n",
              "      <th>1983</th>\n",
              "      <th>1984</th>\n",
              "      <th>1985</th>\n",
              "      <th>1986</th>\n",
              "      <th>1987</th>\n",
              "      <th>1988</th>\n",
              "      <th>1989</th>\n",
              "      <th>1990</th>\n",
              "      <th>1991</th>\n",
              "      <th>1992</th>\n",
              "      <th>1993</th>\n",
              "      <th>1994</th>\n",
              "      <th>1995</th>\n",
              "      <th>1996</th>\n",
              "      <th>1997</th>\n",
              "      <th>1998</th>\n",
              "      <th>1999</th>\n",
              "      <th>2000</th>\n",
              "      <th>2001</th>\n",
              "      <th>2002</th>\n",
              "      <th>2003</th>\n",
              "      <th>2004</th>\n",
              "      <th>2005</th>\n",
              "      <th>2006</th>\n",
              "      <th>2007</th>\n",
              "      <th>2008</th>\n",
              "      <th>2009</th>\n",
              "      <th>2010</th>\n",
              "      <th>2011</th>\n",
              "      <th>2012</th>\n",
              "      <th>2013</th>\n",
              "      <th>2014</th>\n",
              "      <th>2015</th>\n",
              "      <th>2016</th>\n",
              "      <th>2017</th>\n",
              "      <th>2018</th>\n",
              "      <th>2019</th>\n",
              "    </tr>\n",
              "  </thead>\n",
              "  <tbody>\n",
              "    <tr>\n",
              "      <th>count</th>\n",
              "      <td>193.000000</td>\n",
              "      <td>194.000000</td>\n",
              "      <td>196.000000</td>\n",
              "      <td>197.000000</td>\n",
              "      <td>203.000000</td>\n",
              "      <td>203.000000</td>\n",
              "      <td>203.000000</td>\n",
              "      <td>203.000000</td>\n",
              "      <td>203.000000</td>\n",
              "      <td>203.000000</td>\n",
              "      <td>205.000000</td>\n",
              "      <td>206.000000</td>\n",
              "      <td>208.000000</td>\n",
              "      <td>208.000000</td>\n",
              "      <td>208.000000</td>\n",
              "      <td>208.000000</td>\n",
              "      <td>208.000000</td>\n",
              "      <td>208.000000</td>\n",
              "      <td>208.000000</td>\n",
              "      <td>208.000000</td>\n",
              "      <td>208.000000</td>\n",
              "      <td>208.000000</td>\n",
              "      <td>208.000000</td>\n",
              "      <td>208.000000</td>\n",
              "      <td>208.000000</td>\n",
              "      <td>208.000000</td>\n",
              "      <td>209.000000</td>\n",
              "      <td>209.000000</td>\n",
              "      <td>209.000000</td>\n",
              "      <td>209.000000</td>\n",
              "      <td>215.000000</td>\n",
              "      <td>217.000000</td>\n",
              "      <td>241.000000</td>\n",
              "      <td>241.000000</td>\n",
              "      <td>242.000000</td>\n",
              "      <td>243.000000</td>\n",
              "      <td>243.000000</td>\n",
              "      <td>244.000000</td>\n",
              "      <td>245.000000</td>\n",
              "      <td>245.000000</td>\n",
              "      <td>245.000000</td>\n",
              "      <td>245.000000</td>\n",
              "      <td>246.000000</td>\n",
              "      <td>246.000000</td>\n",
              "      <td>246.000000</td>\n",
              "      <td>247.000000</td>\n",
              "      <td>248.000000</td>\n",
              "      <td>249.000000</td>\n",
              "      <td>249.000000</td>\n",
              "      <td>249.000000</td>\n",
              "      <td>249.000000</td>\n",
              "      <td>249.000000</td>\n",
              "      <td>251.000000</td>\n",
              "      <td>251.000000</td>\n",
              "      <td>250.000000</td>\n",
              "      <td>0.0</td>\n",
              "      <td>0.0</td>\n",
              "      <td>0.0</td>\n",
              "      <td>0.0</td>\n",
              "      <td>0.0</td>\n",
              "    </tr>\n",
              "    <tr>\n",
              "      <th>mean</th>\n",
              "      <td>2.037282</td>\n",
              "      <td>2.150171</td>\n",
              "      <td>2.241690</td>\n",
              "      <td>2.753812</td>\n",
              "      <td>2.916141</td>\n",
              "      <td>3.035673</td>\n",
              "      <td>3.049316</td>\n",
              "      <td>3.116120</td>\n",
              "      <td>3.315619</td>\n",
              "      <td>3.927816</td>\n",
              "      <td>4.204099</td>\n",
              "      <td>4.427336</td>\n",
              "      <td>4.494008</td>\n",
              "      <td>4.812818</td>\n",
              "      <td>4.507408</td>\n",
              "      <td>4.377664</td>\n",
              "      <td>4.368837</td>\n",
              "      <td>4.499300</td>\n",
              "      <td>4.526618</td>\n",
              "      <td>4.577355</td>\n",
              "      <td>4.475246</td>\n",
              "      <td>4.003176</td>\n",
              "      <td>3.883912</td>\n",
              "      <td>3.735079</td>\n",
              "      <td>3.833816</td>\n",
              "      <td>3.927593</td>\n",
              "      <td>3.913394</td>\n",
              "      <td>3.950233</td>\n",
              "      <td>4.084677</td>\n",
              "      <td>4.219883</td>\n",
              "      <td>4.087860</td>\n",
              "      <td>4.125632</td>\n",
              "      <td>4.482813</td>\n",
              "      <td>4.505842</td>\n",
              "      <td>4.428009</td>\n",
              "      <td>4.478244</td>\n",
              "      <td>4.496961</td>\n",
              "      <td>4.495002</td>\n",
              "      <td>4.485427</td>\n",
              "      <td>4.453672</td>\n",
              "      <td>4.583647</td>\n",
              "      <td>4.637700</td>\n",
              "      <td>4.605110</td>\n",
              "      <td>4.737570</td>\n",
              "      <td>4.784463</td>\n",
              "      <td>4.826155</td>\n",
              "      <td>4.901256</td>\n",
              "      <td>4.930568</td>\n",
              "      <td>4.935583</td>\n",
              "      <td>4.721868</td>\n",
              "      <td>4.847677</td>\n",
              "      <td>4.811059</td>\n",
              "      <td>4.955428</td>\n",
              "      <td>4.872777</td>\n",
              "      <td>4.886320</td>\n",
              "      <td>NaN</td>\n",
              "      <td>NaN</td>\n",
              "      <td>NaN</td>\n",
              "      <td>NaN</td>\n",
              "      <td>NaN</td>\n",
              "    </tr>\n",
              "    <tr>\n",
              "      <th>std</th>\n",
              "      <td>4.184849</td>\n",
              "      <td>4.377180</td>\n",
              "      <td>4.717044</td>\n",
              "      <td>8.443484</td>\n",
              "      <td>8.493180</td>\n",
              "      <td>8.706497</td>\n",
              "      <td>8.062852</td>\n",
              "      <td>7.263779</td>\n",
              "      <td>7.187105</td>\n",
              "      <td>9.921855</td>\n",
              "      <td>9.263233</td>\n",
              "      <td>9.886576</td>\n",
              "      <td>10.141886</td>\n",
              "      <td>10.766220</td>\n",
              "      <td>9.198437</td>\n",
              "      <td>8.467537</td>\n",
              "      <td>8.085626</td>\n",
              "      <td>8.012298</td>\n",
              "      <td>8.069064</td>\n",
              "      <td>7.968325</td>\n",
              "      <td>7.429310</td>\n",
              "      <td>6.211035</td>\n",
              "      <td>5.797967</td>\n",
              "      <td>5.297735</td>\n",
              "      <td>5.576488</td>\n",
              "      <td>5.617238</td>\n",
              "      <td>5.537729</td>\n",
              "      <td>5.336876</td>\n",
              "      <td>5.485957</td>\n",
              "      <td>5.738058</td>\n",
              "      <td>5.639184</td>\n",
              "      <td>5.694542</td>\n",
              "      <td>6.025123</td>\n",
              "      <td>6.347220</td>\n",
              "      <td>6.247433</td>\n",
              "      <td>6.392206</td>\n",
              "      <td>6.252384</td>\n",
              "      <td>6.563317</td>\n",
              "      <td>6.179797</td>\n",
              "      <td>5.966715</td>\n",
              "      <td>6.380133</td>\n",
              "      <td>6.535791</td>\n",
              "      <td>6.335804</td>\n",
              "      <td>6.387948</td>\n",
              "      <td>6.304327</td>\n",
              "      <td>6.408915</td>\n",
              "      <td>6.528367</td>\n",
              "      <td>6.353846</td>\n",
              "      <td>6.134005</td>\n",
              "      <td>5.811829</td>\n",
              "      <td>5.858565</td>\n",
              "      <td>5.786095</td>\n",
              "      <td>6.155163</td>\n",
              "      <td>5.840759</td>\n",
              "      <td>6.068998</td>\n",
              "      <td>NaN</td>\n",
              "      <td>NaN</td>\n",
              "      <td>NaN</td>\n",
              "      <td>NaN</td>\n",
              "      <td>NaN</td>\n",
              "    </tr>\n",
              "    <tr>\n",
              "      <th>min</th>\n",
              "      <td>0.007984</td>\n",
              "      <td>0.007857</td>\n",
              "      <td>0.008435</td>\n",
              "      <td>0.009336</td>\n",
              "      <td>0.011589</td>\n",
              "      <td>0.011851</td>\n",
              "      <td>0.013248</td>\n",
              "      <td>0.011791</td>\n",
              "      <td>-0.020098</td>\n",
              "      <td>0.016104</td>\n",
              "      <td>0.012334</td>\n",
              "      <td>0.011946</td>\n",
              "      <td>0.011574</td>\n",
              "      <td>0.011215</td>\n",
              "      <td>0.009735</td>\n",
              "      <td>0.009747</td>\n",
              "      <td>0.009905</td>\n",
              "      <td>0.010192</td>\n",
              "      <td>0.007379</td>\n",
              "      <td>0.004333</td>\n",
              "      <td>0.035283</td>\n",
              "      <td>0.029589</td>\n",
              "      <td>0.028209</td>\n",
              "      <td>0.030747</td>\n",
              "      <td>0.041402</td>\n",
              "      <td>0.035264</td>\n",
              "      <td>0.035641</td>\n",
              "      <td>0.036583</td>\n",
              "      <td>0.011809</td>\n",
              "      <td>0.017783</td>\n",
              "      <td>0.023982</td>\n",
              "      <td>0.010720</td>\n",
              "      <td>0.013268</td>\n",
              "      <td>0.013966</td>\n",
              "      <td>0.015142</td>\n",
              "      <td>0.015693</td>\n",
              "      <td>0.017195</td>\n",
              "      <td>0.019060</td>\n",
              "      <td>0.019350</td>\n",
              "      <td>0.020034</td>\n",
              "      <td>0.017282</td>\n",
              "      <td>0.017264</td>\n",
              "      <td>0.018603</td>\n",
              "      <td>0.019182</td>\n",
              "      <td>0.022595</td>\n",
              "      <td>0.020912</td>\n",
              "      <td>0.024582</td>\n",
              "      <td>0.023787</td>\n",
              "      <td>0.023466</td>\n",
              "      <td>0.022707</td>\n",
              "      <td>0.024515</td>\n",
              "      <td>0.027016</td>\n",
              "      <td>0.030539</td>\n",
              "      <td>0.030365</td>\n",
              "      <td>0.044700</td>\n",
              "      <td>NaN</td>\n",
              "      <td>NaN</td>\n",
              "      <td>NaN</td>\n",
              "      <td>NaN</td>\n",
              "      <td>NaN</td>\n",
              "    </tr>\n",
              "    <tr>\n",
              "      <th>25%</th>\n",
              "      <td>0.183316</td>\n",
              "      <td>0.180620</td>\n",
              "      <td>0.198531</td>\n",
              "      <td>0.199338</td>\n",
              "      <td>0.214492</td>\n",
              "      <td>0.233321</td>\n",
              "      <td>0.242972</td>\n",
              "      <td>0.251838</td>\n",
              "      <td>0.280633</td>\n",
              "      <td>0.320451</td>\n",
              "      <td>0.349795</td>\n",
              "      <td>0.340798</td>\n",
              "      <td>0.355732</td>\n",
              "      <td>0.368516</td>\n",
              "      <td>0.371617</td>\n",
              "      <td>0.380724</td>\n",
              "      <td>0.362854</td>\n",
              "      <td>0.387947</td>\n",
              "      <td>0.401433</td>\n",
              "      <td>0.438602</td>\n",
              "      <td>0.448290</td>\n",
              "      <td>0.466774</td>\n",
              "      <td>0.453681</td>\n",
              "      <td>0.450120</td>\n",
              "      <td>0.475806</td>\n",
              "      <td>0.473886</td>\n",
              "      <td>0.441159</td>\n",
              "      <td>0.483382</td>\n",
              "      <td>0.500122</td>\n",
              "      <td>0.497808</td>\n",
              "      <td>0.457140</td>\n",
              "      <td>0.440831</td>\n",
              "      <td>0.569229</td>\n",
              "      <td>0.528187</td>\n",
              "      <td>0.568108</td>\n",
              "      <td>0.587897</td>\n",
              "      <td>0.620413</td>\n",
              "      <td>0.678608</td>\n",
              "      <td>0.675733</td>\n",
              "      <td>0.726635</td>\n",
              "      <td>0.742181</td>\n",
              "      <td>0.757221</td>\n",
              "      <td>0.755792</td>\n",
              "      <td>0.783483</td>\n",
              "      <td>0.828754</td>\n",
              "      <td>0.859606</td>\n",
              "      <td>0.808379</td>\n",
              "      <td>0.898907</td>\n",
              "      <td>0.816057</td>\n",
              "      <td>0.827852</td>\n",
              "      <td>0.815799</td>\n",
              "      <td>0.832929</td>\n",
              "      <td>0.836163</td>\n",
              "      <td>0.866682</td>\n",
              "      <td>0.880427</td>\n",
              "      <td>NaN</td>\n",
              "      <td>NaN</td>\n",
              "      <td>NaN</td>\n",
              "      <td>NaN</td>\n",
              "      <td>NaN</td>\n",
              "    </tr>\n",
              "    <tr>\n",
              "      <th>50%</th>\n",
              "      <td>0.612271</td>\n",
              "      <td>0.636830</td>\n",
              "      <td>0.654542</td>\n",
              "      <td>0.640002</td>\n",
              "      <td>0.765958</td>\n",
              "      <td>0.695949</td>\n",
              "      <td>0.750375</td>\n",
              "      <td>0.802935</td>\n",
              "      <td>1.004495</td>\n",
              "      <td>1.056845</td>\n",
              "      <td>1.000292</td>\n",
              "      <td>1.103881</td>\n",
              "      <td>1.111408</td>\n",
              "      <td>1.136338</td>\n",
              "      <td>1.233332</td>\n",
              "      <td>1.285485</td>\n",
              "      <td>1.361852</td>\n",
              "      <td>1.412222</td>\n",
              "      <td>1.518657</td>\n",
              "      <td>1.580338</td>\n",
              "      <td>1.528621</td>\n",
              "      <td>1.581525</td>\n",
              "      <td>1.479083</td>\n",
              "      <td>1.365647</td>\n",
              "      <td>1.447949</td>\n",
              "      <td>1.540763</td>\n",
              "      <td>1.588908</td>\n",
              "      <td>1.637335</td>\n",
              "      <td>1.755377</td>\n",
              "      <td>1.641918</td>\n",
              "      <td>1.678107</td>\n",
              "      <td>1.864979</td>\n",
              "      <td>2.295183</td>\n",
              "      <td>2.286818</td>\n",
              "      <td>2.229188</td>\n",
              "      <td>2.326499</td>\n",
              "      <td>2.411662</td>\n",
              "      <td>2.282605</td>\n",
              "      <td>2.256440</td>\n",
              "      <td>2.268336</td>\n",
              "      <td>2.344271</td>\n",
              "      <td>2.540171</td>\n",
              "      <td>2.544182</td>\n",
              "      <td>2.644354</td>\n",
              "      <td>2.672370</td>\n",
              "      <td>2.757264</td>\n",
              "      <td>2.929917</td>\n",
              "      <td>2.823702</td>\n",
              "      <td>3.029991</td>\n",
              "      <td>2.939359</td>\n",
              "      <td>2.935527</td>\n",
              "      <td>2.951649</td>\n",
              "      <td>3.027053</td>\n",
              "      <td>3.042065</td>\n",
              "      <td>3.091317</td>\n",
              "      <td>NaN</td>\n",
              "      <td>NaN</td>\n",
              "      <td>NaN</td>\n",
              "      <td>NaN</td>\n",
              "      <td>NaN</td>\n",
              "    </tr>\n",
              "    <tr>\n",
              "      <th>75%</th>\n",
              "      <td>1.694988</td>\n",
              "      <td>1.726250</td>\n",
              "      <td>1.939525</td>\n",
              "      <td>1.710527</td>\n",
              "      <td>1.998806</td>\n",
              "      <td>2.190061</td>\n",
              "      <td>2.455830</td>\n",
              "      <td>2.923741</td>\n",
              "      <td>3.257972</td>\n",
              "      <td>3.597430</td>\n",
              "      <td>4.014685</td>\n",
              "      <td>4.502778</td>\n",
              "      <td>4.525627</td>\n",
              "      <td>5.223770</td>\n",
              "      <td>4.664393</td>\n",
              "      <td>4.898802</td>\n",
              "      <td>5.173553</td>\n",
              "      <td>5.322942</td>\n",
              "      <td>5.746698</td>\n",
              "      <td>5.496695</td>\n",
              "      <td>5.492031</td>\n",
              "      <td>5.307244</td>\n",
              "      <td>5.376697</td>\n",
              "      <td>5.408734</td>\n",
              "      <td>5.273742</td>\n",
              "      <td>5.573662</td>\n",
              "      <td>4.977945</td>\n",
              "      <td>5.386307</td>\n",
              "      <td>5.796251</td>\n",
              "      <td>5.837883</td>\n",
              "      <td>5.914871</td>\n",
              "      <td>5.988953</td>\n",
              "      <td>6.471896</td>\n",
              "      <td>6.655498</td>\n",
              "      <td>6.446692</td>\n",
              "      <td>6.477661</td>\n",
              "      <td>6.758176</td>\n",
              "      <td>6.576799</td>\n",
              "      <td>6.553864</td>\n",
              "      <td>6.696470</td>\n",
              "      <td>6.603843</td>\n",
              "      <td>6.938325</td>\n",
              "      <td>6.956241</td>\n",
              "      <td>7.251943</td>\n",
              "      <td>7.142759</td>\n",
              "      <td>7.037947</td>\n",
              "      <td>7.052989</td>\n",
              "      <td>6.916701</td>\n",
              "      <td>7.010559</td>\n",
              "      <td>6.413945</td>\n",
              "      <td>6.642697</td>\n",
              "      <td>6.715381</td>\n",
              "      <td>6.694898</td>\n",
              "      <td>6.745239</td>\n",
              "      <td>6.391435</td>\n",
              "      <td>NaN</td>\n",
              "      <td>NaN</td>\n",
              "      <td>NaN</td>\n",
              "      <td>NaN</td>\n",
              "      <td>NaN</td>\n",
              "    </tr>\n",
              "    <tr>\n",
              "      <th>max</th>\n",
              "      <td>36.685183</td>\n",
              "      <td>36.583778</td>\n",
              "      <td>42.360705</td>\n",
              "      <td>99.464612</td>\n",
              "      <td>92.860862</td>\n",
              "      <td>85.458585</td>\n",
              "      <td>78.625153</td>\n",
              "      <td>77.502352</td>\n",
              "      <td>75.967182</td>\n",
              "      <td>101.051663</td>\n",
              "      <td>69.111602</td>\n",
              "      <td>76.647897</td>\n",
              "      <td>82.640973</td>\n",
              "      <td>87.686551</td>\n",
              "      <td>68.269442</td>\n",
              "      <td>66.680842</td>\n",
              "      <td>62.156927</td>\n",
              "      <td>54.446456</td>\n",
              "      <td>54.866211</td>\n",
              "      <td>69.990262</td>\n",
              "      <td>58.571779</td>\n",
              "      <td>51.858029</td>\n",
              "      <td>44.563363</td>\n",
              "      <td>36.432177</td>\n",
              "      <td>36.135754</td>\n",
              "      <td>36.544811</td>\n",
              "      <td>33.430236</td>\n",
              "      <td>31.100021</td>\n",
              "      <td>29.726963</td>\n",
              "      <td>31.574754</td>\n",
              "      <td>28.444624</td>\n",
              "      <td>36.327418</td>\n",
              "      <td>54.102490</td>\n",
              "      <td>61.263036</td>\n",
              "      <td>59.607436</td>\n",
              "      <td>61.913951</td>\n",
              "      <td>61.812478</td>\n",
              "      <td>70.042227</td>\n",
              "      <td>58.745185</td>\n",
              "      <td>55.054269</td>\n",
              "      <td>58.619465</td>\n",
              "      <td>67.310496</td>\n",
              "      <td>63.828097</td>\n",
              "      <td>60.900809</td>\n",
              "      <td>57.005574</td>\n",
              "      <td>58.881084</td>\n",
              "      <td>62.066185</td>\n",
              "      <td>51.933672</td>\n",
              "      <td>45.134782</td>\n",
              "      <td>41.827221</td>\n",
              "      <td>39.059708</td>\n",
              "      <td>39.509205</td>\n",
              "      <td>42.860375</td>\n",
              "      <td>36.387918</td>\n",
              "      <td>43.857308</td>\n",
              "      <td>NaN</td>\n",
              "      <td>NaN</td>\n",
              "      <td>NaN</td>\n",
              "      <td>NaN</td>\n",
              "      <td>NaN</td>\n",
              "    </tr>\n",
              "  </tbody>\n",
              "</table>\n",
              "</div>"
            ],
            "text/plain": [
              "             1960        1961        1962        1963  ...  2016  2017  2018  2019\n",
              "count  193.000000  194.000000  196.000000  197.000000  ...   0.0   0.0   0.0   0.0\n",
              "mean     2.037282    2.150171    2.241690    2.753812  ...   NaN   NaN   NaN   NaN\n",
              "std      4.184849    4.377180    4.717044    8.443484  ...   NaN   NaN   NaN   NaN\n",
              "min      0.007984    0.007857    0.008435    0.009336  ...   NaN   NaN   NaN   NaN\n",
              "25%      0.183316    0.180620    0.198531    0.199338  ...   NaN   NaN   NaN   NaN\n",
              "50%      0.612271    0.636830    0.654542    0.640002  ...   NaN   NaN   NaN   NaN\n",
              "75%      1.694988    1.726250    1.939525    1.710527  ...   NaN   NaN   NaN   NaN\n",
              "max     36.685183   36.583778   42.360705   99.464612  ...   NaN   NaN   NaN   NaN\n",
              "\n",
              "[8 rows x 60 columns]"
            ]
          },
          "metadata": {
            "tags": []
          },
          "execution_count": 29
        }
      ]
    },
    {
      "cell_type": "code",
      "metadata": {
        "ExecuteTime": {
          "end_time": "2020-02-27T23:56:52.860343Z",
          "start_time": "2020-02-27T23:56:52.839338Z"
        },
        "id": "5ZTVdcVIu9XB",
        "colab_type": "code",
        "outputId": "dce7d780-250a-4c2d-d27f-a92b586d598e",
        "colab": {
          "base_uri": "https://localhost:8080/",
          "height": 568
        }
      },
      "source": [
        "co2.head()"
      ],
      "execution_count": 30,
      "outputs": [
        {
          "output_type": "execute_result",
          "data": {
            "text/html": [
              "<div>\n",
              "<style scoped>\n",
              "    .dataframe tbody tr th:only-of-type {\n",
              "        vertical-align: middle;\n",
              "    }\n",
              "\n",
              "    .dataframe tbody tr th {\n",
              "        vertical-align: top;\n",
              "    }\n",
              "\n",
              "    .dataframe thead th {\n",
              "        text-align: right;\n",
              "    }\n",
              "</style>\n",
              "<table border=\"1\" class=\"dataframe\">\n",
              "  <thead>\n",
              "    <tr style=\"text-align: right;\">\n",
              "      <th></th>\n",
              "      <th>Country Name</th>\n",
              "      <th>Country Code</th>\n",
              "      <th>Indicator Name</th>\n",
              "      <th>Indicator Code</th>\n",
              "      <th>1960</th>\n",
              "      <th>1961</th>\n",
              "      <th>1962</th>\n",
              "      <th>1963</th>\n",
              "      <th>1964</th>\n",
              "      <th>1965</th>\n",
              "      <th>1966</th>\n",
              "      <th>1967</th>\n",
              "      <th>1968</th>\n",
              "      <th>1969</th>\n",
              "      <th>1970</th>\n",
              "      <th>1971</th>\n",
              "      <th>1972</th>\n",
              "      <th>1973</th>\n",
              "      <th>1974</th>\n",
              "      <th>1975</th>\n",
              "      <th>1976</th>\n",
              "      <th>1977</th>\n",
              "      <th>1978</th>\n",
              "      <th>1979</th>\n",
              "      <th>1980</th>\n",
              "      <th>1981</th>\n",
              "      <th>1982</th>\n",
              "      <th>1983</th>\n",
              "      <th>1984</th>\n",
              "      <th>1985</th>\n",
              "      <th>1986</th>\n",
              "      <th>1987</th>\n",
              "      <th>1988</th>\n",
              "      <th>1989</th>\n",
              "      <th>1990</th>\n",
              "      <th>1991</th>\n",
              "      <th>1992</th>\n",
              "      <th>1993</th>\n",
              "      <th>1994</th>\n",
              "      <th>1995</th>\n",
              "      <th>1996</th>\n",
              "      <th>1997</th>\n",
              "      <th>1998</th>\n",
              "      <th>1999</th>\n",
              "      <th>2000</th>\n",
              "      <th>2001</th>\n",
              "      <th>2002</th>\n",
              "      <th>2003</th>\n",
              "      <th>2004</th>\n",
              "      <th>2005</th>\n",
              "      <th>2006</th>\n",
              "      <th>2007</th>\n",
              "      <th>2008</th>\n",
              "      <th>2009</th>\n",
              "      <th>2010</th>\n",
              "      <th>2011</th>\n",
              "      <th>2012</th>\n",
              "      <th>2013</th>\n",
              "      <th>2014</th>\n",
              "      <th>2015</th>\n",
              "      <th>2016</th>\n",
              "      <th>2017</th>\n",
              "      <th>2018</th>\n",
              "      <th>2019</th>\n",
              "    </tr>\n",
              "  </thead>\n",
              "  <tbody>\n",
              "    <tr>\n",
              "      <th>0</th>\n",
              "      <td>Aruba</td>\n",
              "      <td>ABW</td>\n",
              "      <td>CO2 emissions (metric tons per capita)</td>\n",
              "      <td>EN.ATM.CO2E.PC</td>\n",
              "      <td>NaN</td>\n",
              "      <td>NaN</td>\n",
              "      <td>NaN</td>\n",
              "      <td>NaN</td>\n",
              "      <td>NaN</td>\n",
              "      <td>NaN</td>\n",
              "      <td>NaN</td>\n",
              "      <td>NaN</td>\n",
              "      <td>NaN</td>\n",
              "      <td>NaN</td>\n",
              "      <td>NaN</td>\n",
              "      <td>NaN</td>\n",
              "      <td>NaN</td>\n",
              "      <td>NaN</td>\n",
              "      <td>NaN</td>\n",
              "      <td>NaN</td>\n",
              "      <td>NaN</td>\n",
              "      <td>NaN</td>\n",
              "      <td>NaN</td>\n",
              "      <td>NaN</td>\n",
              "      <td>NaN</td>\n",
              "      <td>NaN</td>\n",
              "      <td>NaN</td>\n",
              "      <td>NaN</td>\n",
              "      <td>NaN</td>\n",
              "      <td>NaN</td>\n",
              "      <td>2.868319</td>\n",
              "      <td>7.235198</td>\n",
              "      <td>10.026179</td>\n",
              "      <td>10.634733</td>\n",
              "      <td>26.374503</td>\n",
              "      <td>26.046130</td>\n",
              "      <td>21.442559</td>\n",
              "      <td>22.000786</td>\n",
              "      <td>21.036245</td>\n",
              "      <td>20.771936</td>\n",
              "      <td>20.318353</td>\n",
              "      <td>20.426818</td>\n",
              "      <td>20.587669</td>\n",
              "      <td>20.311567</td>\n",
              "      <td>26.194875</td>\n",
              "      <td>25.934024</td>\n",
              "      <td>25.671162</td>\n",
              "      <td>26.420452</td>\n",
              "      <td>26.517293</td>\n",
              "      <td>27.200708</td>\n",
              "      <td>26.947726</td>\n",
              "      <td>27.895023</td>\n",
              "      <td>26.229553</td>\n",
              "      <td>25.915322</td>\n",
              "      <td>24.670529</td>\n",
              "      <td>24.507516</td>\n",
              "      <td>13.157722</td>\n",
              "      <td>8.353561</td>\n",
              "      <td>8.410064</td>\n",
              "      <td>NaN</td>\n",
              "      <td>NaN</td>\n",
              "      <td>NaN</td>\n",
              "      <td>NaN</td>\n",
              "      <td>NaN</td>\n",
              "    </tr>\n",
              "    <tr>\n",
              "      <th>1</th>\n",
              "      <td>Afghanistan</td>\n",
              "      <td>AFG</td>\n",
              "      <td>CO2 emissions (metric tons per capita)</td>\n",
              "      <td>EN.ATM.CO2E.PC</td>\n",
              "      <td>0.046057</td>\n",
              "      <td>0.053589</td>\n",
              "      <td>0.073721</td>\n",
              "      <td>0.074161</td>\n",
              "      <td>0.086174</td>\n",
              "      <td>0.101285</td>\n",
              "      <td>0.107399</td>\n",
              "      <td>0.123410</td>\n",
              "      <td>0.115142</td>\n",
              "      <td>0.086510</td>\n",
              "      <td>0.149651</td>\n",
              "      <td>0.165208</td>\n",
              "      <td>0.129996</td>\n",
              "      <td>0.135367</td>\n",
              "      <td>0.154503</td>\n",
              "      <td>0.167612</td>\n",
              "      <td>0.153558</td>\n",
              "      <td>0.181522</td>\n",
              "      <td>0.161894</td>\n",
              "      <td>0.167066</td>\n",
              "      <td>0.131783</td>\n",
              "      <td>0.150615</td>\n",
              "      <td>0.163104</td>\n",
              "      <td>0.201224</td>\n",
              "      <td>0.231961</td>\n",
              "      <td>0.293957</td>\n",
              "      <td>0.267772</td>\n",
              "      <td>0.269230</td>\n",
              "      <td>0.246823</td>\n",
              "      <td>0.233882</td>\n",
              "      <td>0.210643</td>\n",
              "      <td>0.183364</td>\n",
              "      <td>0.096197</td>\n",
              "      <td>0.085087</td>\n",
              "      <td>0.075806</td>\n",
              "      <td>0.068640</td>\n",
              "      <td>0.062435</td>\n",
              "      <td>0.056642</td>\n",
              "      <td>0.052763</td>\n",
              "      <td>0.040723</td>\n",
              "      <td>0.037235</td>\n",
              "      <td>0.037846</td>\n",
              "      <td>0.047377</td>\n",
              "      <td>0.050481</td>\n",
              "      <td>0.038410</td>\n",
              "      <td>0.051744</td>\n",
              "      <td>0.062428</td>\n",
              "      <td>0.083893</td>\n",
              "      <td>0.151721</td>\n",
              "      <td>0.238399</td>\n",
              "      <td>0.289988</td>\n",
              "      <td>0.406424</td>\n",
              "      <td>0.345149</td>\n",
              "      <td>0.310341</td>\n",
              "      <td>0.293946</td>\n",
              "      <td>NaN</td>\n",
              "      <td>NaN</td>\n",
              "      <td>NaN</td>\n",
              "      <td>NaN</td>\n",
              "      <td>NaN</td>\n",
              "    </tr>\n",
              "    <tr>\n",
              "      <th>2</th>\n",
              "      <td>Angola</td>\n",
              "      <td>AGO</td>\n",
              "      <td>CO2 emissions (metric tons per capita)</td>\n",
              "      <td>EN.ATM.CO2E.PC</td>\n",
              "      <td>0.100835</td>\n",
              "      <td>0.082204</td>\n",
              "      <td>0.210531</td>\n",
              "      <td>0.202737</td>\n",
              "      <td>0.213560</td>\n",
              "      <td>0.205891</td>\n",
              "      <td>0.268941</td>\n",
              "      <td>0.172102</td>\n",
              "      <td>0.289718</td>\n",
              "      <td>0.480234</td>\n",
              "      <td>0.608224</td>\n",
              "      <td>0.564548</td>\n",
              "      <td>0.721246</td>\n",
              "      <td>0.751240</td>\n",
              "      <td>0.720776</td>\n",
              "      <td>0.628569</td>\n",
              "      <td>0.451354</td>\n",
              "      <td>0.469221</td>\n",
              "      <td>0.694737</td>\n",
              "      <td>0.683063</td>\n",
              "      <td>0.640966</td>\n",
              "      <td>0.611135</td>\n",
              "      <td>0.519355</td>\n",
              "      <td>0.551349</td>\n",
              "      <td>0.520983</td>\n",
              "      <td>0.471903</td>\n",
              "      <td>0.451619</td>\n",
              "      <td>0.544085</td>\n",
              "      <td>0.463508</td>\n",
              "      <td>0.437295</td>\n",
              "      <td>0.431744</td>\n",
              "      <td>0.415531</td>\n",
              "      <td>0.410523</td>\n",
              "      <td>0.441721</td>\n",
              "      <td>0.288119</td>\n",
              "      <td>0.787033</td>\n",
              "      <td>0.726233</td>\n",
              "      <td>0.496361</td>\n",
              "      <td>0.475815</td>\n",
              "      <td>0.577083</td>\n",
              "      <td>0.581961</td>\n",
              "      <td>0.574316</td>\n",
              "      <td>0.722959</td>\n",
              "      <td>0.500225</td>\n",
              "      <td>1.001878</td>\n",
              "      <td>0.985736</td>\n",
              "      <td>1.105019</td>\n",
              "      <td>1.203134</td>\n",
              "      <td>1.185000</td>\n",
              "      <td>1.234425</td>\n",
              "      <td>1.244092</td>\n",
              "      <td>1.252681</td>\n",
              "      <td>1.330219</td>\n",
              "      <td>1.253776</td>\n",
              "      <td>1.290307</td>\n",
              "      <td>NaN</td>\n",
              "      <td>NaN</td>\n",
              "      <td>NaN</td>\n",
              "      <td>NaN</td>\n",
              "      <td>NaN</td>\n",
              "    </tr>\n",
              "    <tr>\n",
              "      <th>3</th>\n",
              "      <td>Albania</td>\n",
              "      <td>ALB</td>\n",
              "      <td>CO2 emissions (metric tons per capita)</td>\n",
              "      <td>EN.ATM.CO2E.PC</td>\n",
              "      <td>1.258195</td>\n",
              "      <td>1.374186</td>\n",
              "      <td>1.439956</td>\n",
              "      <td>1.181681</td>\n",
              "      <td>1.111742</td>\n",
              "      <td>1.166099</td>\n",
              "      <td>1.333055</td>\n",
              "      <td>1.363746</td>\n",
              "      <td>1.519551</td>\n",
              "      <td>1.558968</td>\n",
              "      <td>1.753240</td>\n",
              "      <td>1.989498</td>\n",
              "      <td>2.515914</td>\n",
              "      <td>2.303897</td>\n",
              "      <td>1.849007</td>\n",
              "      <td>1.910634</td>\n",
              "      <td>2.013585</td>\n",
              "      <td>2.275876</td>\n",
              "      <td>2.530625</td>\n",
              "      <td>2.898209</td>\n",
              "      <td>1.935058</td>\n",
              "      <td>2.693024</td>\n",
              "      <td>2.624857</td>\n",
              "      <td>2.683240</td>\n",
              "      <td>2.694291</td>\n",
              "      <td>2.658015</td>\n",
              "      <td>2.665356</td>\n",
              "      <td>2.414061</td>\n",
              "      <td>2.331599</td>\n",
              "      <td>2.783243</td>\n",
              "      <td>1.678107</td>\n",
              "      <td>1.312213</td>\n",
              "      <td>0.774725</td>\n",
              "      <td>0.723790</td>\n",
              "      <td>0.600204</td>\n",
              "      <td>0.654537</td>\n",
              "      <td>0.636625</td>\n",
              "      <td>0.490365</td>\n",
              "      <td>0.560271</td>\n",
              "      <td>0.960164</td>\n",
              "      <td>0.978175</td>\n",
              "      <td>1.053304</td>\n",
              "      <td>1.229541</td>\n",
              "      <td>1.412697</td>\n",
              "      <td>1.376213</td>\n",
              "      <td>1.412498</td>\n",
              "      <td>1.302576</td>\n",
              "      <td>1.322335</td>\n",
              "      <td>1.484311</td>\n",
              "      <td>1.495600</td>\n",
              "      <td>1.578574</td>\n",
              "      <td>1.803715</td>\n",
              "      <td>1.692908</td>\n",
              "      <td>1.749211</td>\n",
              "      <td>1.978763</td>\n",
              "      <td>NaN</td>\n",
              "      <td>NaN</td>\n",
              "      <td>NaN</td>\n",
              "      <td>NaN</td>\n",
              "      <td>NaN</td>\n",
              "    </tr>\n",
              "    <tr>\n",
              "      <th>4</th>\n",
              "      <td>Andorra</td>\n",
              "      <td>AND</td>\n",
              "      <td>CO2 emissions (metric tons per capita)</td>\n",
              "      <td>EN.ATM.CO2E.PC</td>\n",
              "      <td>NaN</td>\n",
              "      <td>NaN</td>\n",
              "      <td>NaN</td>\n",
              "      <td>NaN</td>\n",
              "      <td>NaN</td>\n",
              "      <td>NaN</td>\n",
              "      <td>NaN</td>\n",
              "      <td>NaN</td>\n",
              "      <td>NaN</td>\n",
              "      <td>NaN</td>\n",
              "      <td>NaN</td>\n",
              "      <td>NaN</td>\n",
              "      <td>NaN</td>\n",
              "      <td>NaN</td>\n",
              "      <td>NaN</td>\n",
              "      <td>NaN</td>\n",
              "      <td>NaN</td>\n",
              "      <td>NaN</td>\n",
              "      <td>NaN</td>\n",
              "      <td>NaN</td>\n",
              "      <td>NaN</td>\n",
              "      <td>NaN</td>\n",
              "      <td>NaN</td>\n",
              "      <td>NaN</td>\n",
              "      <td>NaN</td>\n",
              "      <td>NaN</td>\n",
              "      <td>NaN</td>\n",
              "      <td>NaN</td>\n",
              "      <td>NaN</td>\n",
              "      <td>NaN</td>\n",
              "      <td>7.467336</td>\n",
              "      <td>7.182457</td>\n",
              "      <td>6.912053</td>\n",
              "      <td>6.736055</td>\n",
              "      <td>6.494200</td>\n",
              "      <td>6.662052</td>\n",
              "      <td>7.065071</td>\n",
              "      <td>7.239713</td>\n",
              "      <td>7.660784</td>\n",
              "      <td>7.975454</td>\n",
              "      <td>8.019284</td>\n",
              "      <td>7.786950</td>\n",
              "      <td>7.590615</td>\n",
              "      <td>7.315761</td>\n",
              "      <td>7.358625</td>\n",
              "      <td>7.299872</td>\n",
              "      <td>6.746052</td>\n",
              "      <td>6.519387</td>\n",
              "      <td>6.427810</td>\n",
              "      <td>6.121580</td>\n",
              "      <td>6.122595</td>\n",
              "      <td>5.867410</td>\n",
              "      <td>5.916884</td>\n",
              "      <td>5.901775</td>\n",
              "      <td>5.832906</td>\n",
              "      <td>NaN</td>\n",
              "      <td>NaN</td>\n",
              "      <td>NaN</td>\n",
              "      <td>NaN</td>\n",
              "      <td>NaN</td>\n",
              "    </tr>\n",
              "  </tbody>\n",
              "</table>\n",
              "</div>"
            ],
            "text/plain": [
              "  Country Name Country Code  ... 2018 2019\n",
              "0        Aruba          ABW  ...  NaN  NaN\n",
              "1  Afghanistan          AFG  ...  NaN  NaN\n",
              "2       Angola          AGO  ...  NaN  NaN\n",
              "3      Albania          ALB  ...  NaN  NaN\n",
              "4      Andorra          AND  ...  NaN  NaN\n",
              "\n",
              "[5 rows x 64 columns]"
            ]
          },
          "metadata": {
            "tags": []
          },
          "execution_count": 30
        }
      ]
    },
    {
      "cell_type": "code",
      "metadata": {
        "id": "07NklwqQy3E_",
        "colab_type": "code",
        "outputId": "dbd24cec-ceab-45f3-91a0-fcf6a9e7c6f4",
        "colab": {
          "base_uri": "https://localhost:8080/",
          "height": 176
        }
      },
      "source": [
        "co2.columns"
      ],
      "execution_count": 31,
      "outputs": [
        {
          "output_type": "execute_result",
          "data": {
            "text/plain": [
              "Index(['Country Name', 'Country Code', 'Indicator Name', 'Indicator Code',\n",
              "       '1960', '1961', '1962', '1963', '1964', '1965', '1966', '1967', '1968',\n",
              "       '1969', '1970', '1971', '1972', '1973', '1974', '1975', '1976', '1977',\n",
              "       '1978', '1979', '1980', '1981', '1982', '1983', '1984', '1985', '1986',\n",
              "       '1987', '1988', '1989', '1990', '1991', '1992', '1993', '1994', '1995',\n",
              "       '1996', '1997', '1998', '1999', '2000', '2001', '2002', '2003', '2004',\n",
              "       '2005', '2006', '2007', '2008', '2009', '2010', '2011', '2012', '2013',\n",
              "       '2014', '2015', '2016', '2017', '2018', '2019'],\n",
              "      dtype='object')"
            ]
          },
          "metadata": {
            "tags": []
          },
          "execution_count": 31
        }
      ]
    },
    {
      "cell_type": "code",
      "metadata": {
        "ExecuteTime": {
          "end_time": "2020-02-27T23:56:53.882591Z",
          "start_time": "2020-02-27T23:56:53.721354Z"
        },
        "id": "tQ1l1YzPu9XH",
        "colab_type": "code",
        "outputId": "5d6e521c-4221-4837-c695-2ee4fac0fdfa",
        "colab": {
          "base_uri": "https://localhost:8080/",
          "height": 282
        }
      },
      "source": [
        "co2[co2[\"Country Name\"] ==  \"World\"].T.iloc[5:].plot()"
      ],
      "execution_count": 32,
      "outputs": [
        {
          "output_type": "execute_result",
          "data": {
            "text/plain": [
              "<matplotlib.axes._subplots.AxesSubplot at 0x7f5805a5d320>"
            ]
          },
          "metadata": {
            "tags": []
          },
          "execution_count": 32
        },
        {
          "output_type": "display_data",
          "data": {
            "image/png": "[encoded data removed]",
            "text/plain": [
              "<Figure size 432x288 with 1 Axes>"
            ]
          },
          "metadata": {
            "tags": []
          }
        }
      ]
    },
    {
      "cell_type": "markdown",
      "metadata": {
        "id": "TDWYB76olkDr",
        "colab_type": "text"
      },
      "source": [
        "**Figure 1.** Time series of CO2 levels. On the x axis are the years represented, on the y axis is the amount of CO2 reported. "
      ]
    },
    {
      "cell_type": "code",
      "metadata": {
        "ExecuteTime": {
          "end_time": "2020-02-27T23:56:54.189729Z",
          "start_time": "2020-02-27T23:56:54.185208Z"
        },
        "id": "Sw5MNNCfu9XJ",
        "colab_type": "code",
        "colab": {}
      },
      "source": [
        "co2t = co2.transpose()"
      ],
      "execution_count": 0,
      "outputs": []
    },
    {
      "cell_type": "code",
      "metadata": {
        "ExecuteTime": {
          "end_time": "2020-02-27T23:56:57.552605Z",
          "start_time": "2020-02-27T23:56:57.546888Z"
        },
        "id": "Frk-LHnau9XM",
        "colab_type": "code",
        "outputId": "ce85a8c0-37b9-43b6-bf6c-4ee3a5bbde69",
        "colab": {
          "base_uri": "https://localhost:8080/",
          "height": 363
        }
      },
      "source": [
        "co2t.head()"
      ],
      "execution_count": 34,
      "outputs": [
        {
          "output_type": "execute_result",
          "data": {
            "text/html": [
              "<div>\n",
              "<style scoped>\n",
              "    .dataframe tbody tr th:only-of-type {\n",
              "        vertical-align: middle;\n",
              "    }\n",
              "\n",
              "    .dataframe tbody tr th {\n",
              "        vertical-align: top;\n",
              "    }\n",
              "\n",
              "    .dataframe thead th {\n",
              "        text-align: right;\n",
              "    }\n",
              "</style>\n",
              "<table border=\"1\" class=\"dataframe\">\n",
              "  <thead>\n",
              "    <tr style=\"text-align: right;\">\n",
              "      <th></th>\n",
              "      <th>0</th>\n",
              "      <th>1</th>\n",
              "      <th>2</th>\n",
              "      <th>3</th>\n",
              "      <th>4</th>\n",
              "      <th>5</th>\n",
              "      <th>6</th>\n",
              "      <th>7</th>\n",
              "      <th>8</th>\n",
              "      <th>9</th>\n",
              "      <th>10</th>\n",
              "      <th>11</th>\n",
              "      <th>12</th>\n",
              "      <th>13</th>\n",
              "      <th>14</th>\n",
              "      <th>15</th>\n",
              "      <th>16</th>\n",
              "      <th>17</th>\n",
              "      <th>18</th>\n",
              "      <th>19</th>\n",
              "      <th>20</th>\n",
              "      <th>21</th>\n",
              "      <th>22</th>\n",
              "      <th>23</th>\n",
              "      <th>24</th>\n",
              "      <th>25</th>\n",
              "      <th>26</th>\n",
              "      <th>27</th>\n",
              "      <th>28</th>\n",
              "      <th>29</th>\n",
              "      <th>30</th>\n",
              "      <th>31</th>\n",
              "      <th>32</th>\n",
              "      <th>33</th>\n",
              "      <th>34</th>\n",
              "      <th>35</th>\n",
              "      <th>36</th>\n",
              "      <th>37</th>\n",
              "      <th>38</th>\n",
              "      <th>39</th>\n",
              "      <th>...</th>\n",
              "      <th>224</th>\n",
              "      <th>225</th>\n",
              "      <th>226</th>\n",
              "      <th>227</th>\n",
              "      <th>228</th>\n",
              "      <th>229</th>\n",
              "      <th>230</th>\n",
              "      <th>231</th>\n",
              "      <th>232</th>\n",
              "      <th>233</th>\n",
              "      <th>234</th>\n",
              "      <th>235</th>\n",
              "      <th>236</th>\n",
              "      <th>237</th>\n",
              "      <th>238</th>\n",
              "      <th>239</th>\n",
              "      <th>240</th>\n",
              "      <th>241</th>\n",
              "      <th>242</th>\n",
              "      <th>243</th>\n",
              "      <th>244</th>\n",
              "      <th>245</th>\n",
              "      <th>246</th>\n",
              "      <th>247</th>\n",
              "      <th>248</th>\n",
              "      <th>249</th>\n",
              "      <th>250</th>\n",
              "      <th>251</th>\n",
              "      <th>252</th>\n",
              "      <th>253</th>\n",
              "      <th>254</th>\n",
              "      <th>255</th>\n",
              "      <th>256</th>\n",
              "      <th>257</th>\n",
              "      <th>258</th>\n",
              "      <th>259</th>\n",
              "      <th>260</th>\n",
              "      <th>261</th>\n",
              "      <th>262</th>\n",
              "      <th>263</th>\n",
              "    </tr>\n",
              "  </thead>\n",
              "  <tbody>\n",
              "    <tr>\n",
              "      <th>Country Name</th>\n",
              "      <td>Aruba</td>\n",
              "      <td>Afghanistan</td>\n",
              "      <td>Angola</td>\n",
              "      <td>Albania</td>\n",
              "      <td>Andorra</td>\n",
              "      <td>Arab World</td>\n",
              "      <td>United Arab Emirates</td>\n",
              "      <td>Argentina</td>\n",
              "      <td>Armenia</td>\n",
              "      <td>American Samoa</td>\n",
              "      <td>Antigua and Barbuda</td>\n",
              "      <td>Australia</td>\n",
              "      <td>Austria</td>\n",
              "      <td>Azerbaijan</td>\n",
              "      <td>Burundi</td>\n",
              "      <td>Belgium</td>\n",
              "      <td>Benin</td>\n",
              "      <td>Burkina Faso</td>\n",
              "      <td>Bangladesh</td>\n",
              "      <td>Bulgaria</td>\n",
              "      <td>Bahrain</td>\n",
              "      <td>Bahamas, The</td>\n",
              "      <td>Bosnia and Herzegovina</td>\n",
              "      <td>Belarus</td>\n",
              "      <td>Belize</td>\n",
              "      <td>Bermuda</td>\n",
              "      <td>Bolivia</td>\n",
              "      <td>Brazil</td>\n",
              "      <td>Barbados</td>\n",
              "      <td>Brunei Darussalam</td>\n",
              "      <td>Bhutan</td>\n",
              "      <td>Botswana</td>\n",
              "      <td>Central African Republic</td>\n",
              "      <td>Canada</td>\n",
              "      <td>Central Europe and the Baltics</td>\n",
              "      <td>Switzerland</td>\n",
              "      <td>Channel Islands</td>\n",
              "      <td>Chile</td>\n",
              "      <td>China</td>\n",
              "      <td>Cote d'Ivoire</td>\n",
              "      <td>...</td>\n",
              "      <td>Seychelles</td>\n",
              "      <td>Syrian Arab Republic</td>\n",
              "      <td>Turks and Caicos Islands</td>\n",
              "      <td>Chad</td>\n",
              "      <td>East Asia &amp; Pacific (IDA &amp; IBRD countries)</td>\n",
              "      <td>Europe &amp; Central Asia (IDA &amp; IBRD countries)</td>\n",
              "      <td>Togo</td>\n",
              "      <td>Thailand</td>\n",
              "      <td>Tajikistan</td>\n",
              "      <td>Turkmenistan</td>\n",
              "      <td>Latin America &amp; the Caribbean (IDA &amp; IBRD coun...</td>\n",
              "      <td>Timor-Leste</td>\n",
              "      <td>Middle East &amp; North Africa (IDA &amp; IBRD countries)</td>\n",
              "      <td>Tonga</td>\n",
              "      <td>South Asia (IDA &amp; IBRD)</td>\n",
              "      <td>Sub-Saharan Africa (IDA &amp; IBRD countries)</td>\n",
              "      <td>Trinidad and Tobago</td>\n",
              "      <td>Tunisia</td>\n",
              "      <td>Turkey</td>\n",
              "      <td>Tuvalu</td>\n",
              "      <td>Tanzania</td>\n",
              "      <td>Uganda</td>\n",
              "      <td>Ukraine</td>\n",
              "      <td>Upper middle income</td>\n",
              "      <td>Uruguay</td>\n",
              "      <td>United States</td>\n",
              "      <td>Uzbekistan</td>\n",
              "      <td>St. Vincent and the Grenadines</td>\n",
              "      <td>Venezuela, RB</td>\n",
              "      <td>British Virgin Islands</td>\n",
              "      <td>Virgin Islands (U.S.)</td>\n",
              "      <td>Vietnam</td>\n",
              "      <td>Vanuatu</td>\n",
              "      <td>World</td>\n",
              "      <td>Samoa</td>\n",
              "      <td>Kosovo</td>\n",
              "      <td>Yemen, Rep.</td>\n",
              "      <td>South Africa</td>\n",
              "      <td>Zambia</td>\n",
              "      <td>Zimbabwe</td>\n",
              "    </tr>\n",
              "    <tr>\n",
              "      <th>Country Code</th>\n",
              "      <td>ABW</td>\n",
              "      <td>AFG</td>\n",
              "      <td>AGO</td>\n",
              "      <td>ALB</td>\n",
              "      <td>AND</td>\n",
              "      <td>ARB</td>\n",
              "      <td>ARE</td>\n",
              "      <td>ARG</td>\n",
              "      <td>ARM</td>\n",
              "      <td>ASM</td>\n",
              "      <td>ATG</td>\n",
              "      <td>AUS</td>\n",
              "      <td>AUT</td>\n",
              "      <td>AZE</td>\n",
              "      <td>BDI</td>\n",
              "      <td>BEL</td>\n",
              "      <td>BEN</td>\n",
              "      <td>BFA</td>\n",
              "      <td>BGD</td>\n",
              "      <td>BGR</td>\n",
              "      <td>BHR</td>\n",
              "      <td>BHS</td>\n",
              "      <td>BIH</td>\n",
              "      <td>BLR</td>\n",
              "      <td>BLZ</td>\n",
              "      <td>BMU</td>\n",
              "      <td>BOL</td>\n",
              "      <td>BRA</td>\n",
              "      <td>BRB</td>\n",
              "      <td>BRN</td>\n",
              "      <td>BTN</td>\n",
              "      <td>BWA</td>\n",
              "      <td>CAF</td>\n",
              "      <td>CAN</td>\n",
              "      <td>CEB</td>\n",
              "      <td>CHE</td>\n",
              "      <td>CHI</td>\n",
              "      <td>CHL</td>\n",
              "      <td>CHN</td>\n",
              "      <td>CIV</td>\n",
              "      <td>...</td>\n",
              "      <td>SYC</td>\n",
              "      <td>SYR</td>\n",
              "      <td>TCA</td>\n",
              "      <td>TCD</td>\n",
              "      <td>TEA</td>\n",
              "      <td>TEC</td>\n",
              "      <td>TGO</td>\n",
              "      <td>THA</td>\n",
              "      <td>TJK</td>\n",
              "      <td>TKM</td>\n",
              "      <td>TLA</td>\n",
              "      <td>TLS</td>\n",
              "      <td>TMN</td>\n",
              "      <td>TON</td>\n",
              "      <td>TSA</td>\n",
              "      <td>TSS</td>\n",
              "      <td>TTO</td>\n",
              "      <td>TUN</td>\n",
              "      <td>TUR</td>\n",
              "      <td>TUV</td>\n",
              "      <td>TZA</td>\n",
              "      <td>UGA</td>\n",
              "      <td>UKR</td>\n",
              "      <td>UMC</td>\n",
              "      <td>URY</td>\n",
              "      <td>USA</td>\n",
              "      <td>UZB</td>\n",
              "      <td>VCT</td>\n",
              "      <td>VEN</td>\n",
              "      <td>VGB</td>\n",
              "      <td>VIR</td>\n",
              "      <td>VNM</td>\n",
              "      <td>VUT</td>\n",
              "      <td>WLD</td>\n",
              "      <td>WSM</td>\n",
              "      <td>XKX</td>\n",
              "      <td>YEM</td>\n",
              "      <td>ZAF</td>\n",
              "      <td>ZMB</td>\n",
              "      <td>ZWE</td>\n",
              "    </tr>\n",
              "    <tr>\n",
              "      <th>Indicator Name</th>\n",
              "      <td>CO2 emissions (metric tons per capita)</td>\n",
              "      <td>CO2 emissions (metric tons per capita)</td>\n",
              "      <td>CO2 emissions (metric tons per capita)</td>\n",
              "      <td>CO2 emissions (metric tons per capita)</td>\n",
              "      <td>CO2 emissions (metric tons per capita)</td>\n",
              "      <td>CO2 emissions (metric tons per capita)</td>\n",
              "      <td>CO2 emissions (metric tons per capita)</td>\n",
              "      <td>CO2 emissions (metric tons per capita)</td>\n",
              "      <td>CO2 emissions (metric tons per capita)</td>\n",
              "      <td>CO2 emissions (metric tons per capita)</td>\n",
              "      <td>CO2 emissions (metric tons per capita)</td>\n",
              "      <td>CO2 emissions (metric tons per capita)</td>\n",
              "      <td>CO2 emissions (metric tons per capita)</td>\n",
              "      <td>CO2 emissions (metric tons per capita)</td>\n",
              "      <td>CO2 emissions (metric tons per capita)</td>\n",
              "      <td>CO2 emissions (metric tons per capita)</td>\n",
              "      <td>CO2 emissions (metric tons per capita)</td>\n",
              "      <td>CO2 emissions (metric tons per capita)</td>\n",
              "      <td>CO2 emissions (metric tons per capita)</td>\n",
              "      <td>CO2 emissions (metric tons per capita)</td>\n",
              "      <td>CO2 emissions (metric tons per capita)</td>\n",
              "      <td>CO2 emissions (metric tons per capita)</td>\n",
              "      <td>CO2 emissions (metric tons per capita)</td>\n",
              "      <td>CO2 emissions (metric tons per capita)</td>\n",
              "      <td>CO2 emissions (metric tons per capita)</td>\n",
              "      <td>CO2 emissions (metric tons per capita)</td>\n",
              "      <td>CO2 emissions (metric tons per capita)</td>\n",
              "      <td>CO2 emissions (metric tons per capita)</td>\n",
              "      <td>CO2 emissions (metric tons per capita)</td>\n",
              "      <td>CO2 emissions (metric tons per capita)</td>\n",
              "      <td>CO2 emissions (metric tons per capita)</td>\n",
              "      <td>CO2 emissions (metric tons per capita)</td>\n",
              "      <td>CO2 emissions (metric tons per capita)</td>\n",
              "      <td>CO2 emissions (metric tons per capita)</td>\n",
              "      <td>CO2 emissions (metric tons per capita)</td>\n",
              "      <td>CO2 emissions (metric tons per capita)</td>\n",
              "      <td>CO2 emissions (metric tons per capita)</td>\n",
              "      <td>CO2 emissions (metric tons per capita)</td>\n",
              "      <td>CO2 emissions (metric tons per capita)</td>\n",
              "      <td>CO2 emissions (metric tons per capita)</td>\n",
              "      <td>...</td>\n",
              "      <td>CO2 emissions (metric tons per capita)</td>\n",
              "      <td>CO2 emissions (metric tons per capita)</td>\n",
              "      <td>CO2 emissions (metric tons per capita)</td>\n",
              "      <td>CO2 emissions (metric tons per capita)</td>\n",
              "      <td>CO2 emissions (metric tons per capita)</td>\n",
              "      <td>CO2 emissions (metric tons per capita)</td>\n",
              "      <td>CO2 emissions (metric tons per capita)</td>\n",
              "      <td>CO2 emissions (metric tons per capita)</td>\n",
              "      <td>CO2 emissions (metric tons per capita)</td>\n",
              "      <td>CO2 emissions (metric tons per capita)</td>\n",
              "      <td>CO2 emissions (metric tons per capita)</td>\n",
              "      <td>CO2 emissions (metric tons per capita)</td>\n",
              "      <td>CO2 emissions (metric tons per capita)</td>\n",
              "      <td>CO2 emissions (metric tons per capita)</td>\n",
              "      <td>CO2 emissions (metric tons per capita)</td>\n",
              "      <td>CO2 emissions (metric tons per capita)</td>\n",
              "      <td>CO2 emissions (metric tons per capita)</td>\n",
              "      <td>CO2 emissions (metric tons per capita)</td>\n",
              "      <td>CO2 emissions (metric tons per capita)</td>\n",
              "      <td>CO2 emissions (metric tons per capita)</td>\n",
              "      <td>CO2 emissions (metric tons per capita)</td>\n",
              "      <td>CO2 emissions (metric tons per capita)</td>\n",
              "      <td>CO2 emissions (metric tons per capita)</td>\n",
              "      <td>CO2 emissions (metric tons per capita)</td>\n",
              "      <td>CO2 emissions (metric tons per capita)</td>\n",
              "      <td>CO2 emissions (metric tons per capita)</td>\n",
              "      <td>CO2 emissions (metric tons per capita)</td>\n",
              "      <td>CO2 emissions (metric tons per capita)</td>\n",
              "      <td>CO2 emissions (metric tons per capita)</td>\n",
              "      <td>CO2 emissions (metric tons per capita)</td>\n",
              "      <td>CO2 emissions (metric tons per capita)</td>\n",
              "      <td>CO2 emissions (metric tons per capita)</td>\n",
              "      <td>CO2 emissions (metric tons per capita)</td>\n",
              "      <td>CO2 emissions (metric tons per capita)</td>\n",
              "      <td>CO2 emissions (metric tons per capita)</td>\n",
              "      <td>CO2 emissions (metric tons per capita)</td>\n",
              "      <td>CO2 emissions (metric tons per capita)</td>\n",
              "      <td>CO2 emissions (metric tons per capita)</td>\n",
              "      <td>CO2 emissions (metric tons per capita)</td>\n",
              "      <td>CO2 emissions (metric tons per capita)</td>\n",
              "    </tr>\n",
              "    <tr>\n",
              "      <th>Indicator Code</th>\n",
              "      <td>EN.ATM.CO2E.PC</td>\n",
              "      <td>EN.ATM.CO2E.PC</td>\n",
              "      <td>EN.ATM.CO2E.PC</td>\n",
              "      <td>EN.ATM.CO2E.PC</td>\n",
              "      <td>EN.ATM.CO2E.PC</td>\n",
              "      <td>EN.ATM.CO2E.PC</td>\n",
              "      <td>EN.ATM.CO2E.PC</td>\n",
              "      <td>EN.ATM.CO2E.PC</td>\n",
              "      <td>EN.ATM.CO2E.PC</td>\n",
              "      <td>EN.ATM.CO2E.PC</td>\n",
              "      <td>EN.ATM.CO2E.PC</td>\n",
              "      <td>EN.ATM.CO2E.PC</td>\n",
              "      <td>EN.ATM.CO2E.PC</td>\n",
              "      <td>EN.ATM.CO2E.PC</td>\n",
              "      <td>EN.ATM.CO2E.PC</td>\n",
              "      <td>EN.ATM.CO2E.PC</td>\n",
              "      <td>EN.ATM.CO2E.PC</td>\n",
              "      <td>EN.ATM.CO2E.PC</td>\n",
              "      <td>EN.ATM.CO2E.PC</td>\n",
              "      <td>EN.ATM.CO2E.PC</td>\n",
              "      <td>EN.ATM.CO2E.PC</td>\n",
              "      <td>EN.ATM.CO2E.PC</td>\n",
              "      <td>EN.ATM.CO2E.PC</td>\n",
              "      <td>EN.ATM.CO2E.PC</td>\n",
              "      <td>EN.ATM.CO2E.PC</td>\n",
              "      <td>EN.ATM.CO2E.PC</td>\n",
              "      <td>EN.ATM.CO2E.PC</td>\n",
              "      <td>EN.ATM.CO2E.PC</td>\n",
              "      <td>EN.ATM.CO2E.PC</td>\n",
              "      <td>EN.ATM.CO2E.PC</td>\n",
              "      <td>EN.ATM.CO2E.PC</td>\n",
              "      <td>EN.ATM.CO2E.PC</td>\n",
              "      <td>EN.ATM.CO2E.PC</td>\n",
              "      <td>EN.ATM.CO2E.PC</td>\n",
              "      <td>EN.ATM.CO2E.PC</td>\n",
              "      <td>EN.ATM.CO2E.PC</td>\n",
              "      <td>EN.ATM.CO2E.PC</td>\n",
              "      <td>EN.ATM.CO2E.PC</td>\n",
              "      <td>EN.ATM.CO2E.PC</td>\n",
              "      <td>EN.ATM.CO2E.PC</td>\n",
              "      <td>...</td>\n",
              "      <td>EN.ATM.CO2E.PC</td>\n",
              "      <td>EN.ATM.CO2E.PC</td>\n",
              "      <td>EN.ATM.CO2E.PC</td>\n",
              "      <td>EN.ATM.CO2E.PC</td>\n",
              "      <td>EN.ATM.CO2E.PC</td>\n",
              "      <td>EN.ATM.CO2E.PC</td>\n",
              "      <td>EN.ATM.CO2E.PC</td>\n",
              "      <td>EN.ATM.CO2E.PC</td>\n",
              "      <td>EN.ATM.CO2E.PC</td>\n",
              "      <td>EN.ATM.CO2E.PC</td>\n",
              "      <td>EN.ATM.CO2E.PC</td>\n",
              "      <td>EN.ATM.CO2E.PC</td>\n",
              "      <td>EN.ATM.CO2E.PC</td>\n",
              "      <td>EN.ATM.CO2E.PC</td>\n",
              "      <td>EN.ATM.CO2E.PC</td>\n",
              "      <td>EN.ATM.CO2E.PC</td>\n",
              "      <td>EN.ATM.CO2E.PC</td>\n",
              "      <td>EN.ATM.CO2E.PC</td>\n",
              "      <td>EN.ATM.CO2E.PC</td>\n",
              "      <td>EN.ATM.CO2E.PC</td>\n",
              "      <td>EN.ATM.CO2E.PC</td>\n",
              "      <td>EN.ATM.CO2E.PC</td>\n",
              "      <td>EN.ATM.CO2E.PC</td>\n",
              "      <td>EN.ATM.CO2E.PC</td>\n",
              "      <td>EN.ATM.CO2E.PC</td>\n",
              "      <td>EN.ATM.CO2E.PC</td>\n",
              "      <td>EN.ATM.CO2E.PC</td>\n",
              "      <td>EN.ATM.CO2E.PC</td>\n",
              "      <td>EN.ATM.CO2E.PC</td>\n",
              "      <td>EN.ATM.CO2E.PC</td>\n",
              "      <td>EN.ATM.CO2E.PC</td>\n",
              "      <td>EN.ATM.CO2E.PC</td>\n",
              "      <td>EN.ATM.CO2E.PC</td>\n",
              "      <td>EN.ATM.CO2E.PC</td>\n",
              "      <td>EN.ATM.CO2E.PC</td>\n",
              "      <td>EN.ATM.CO2E.PC</td>\n",
              "      <td>EN.ATM.CO2E.PC</td>\n",
              "      <td>EN.ATM.CO2E.PC</td>\n",
              "      <td>EN.ATM.CO2E.PC</td>\n",
              "      <td>EN.ATM.CO2E.PC</td>\n",
              "    </tr>\n",
              "    <tr>\n",
              "      <th>1960</th>\n",
              "      <td>NaN</td>\n",
              "      <td>0.0460567</td>\n",
              "      <td>0.100835</td>\n",
              "      <td>1.25819</td>\n",
              "      <td>NaN</td>\n",
              "      <td>0.645736</td>\n",
              "      <td>0.119035</td>\n",
              "      <td>2.38334</td>\n",
              "      <td>NaN</td>\n",
              "      <td>NaN</td>\n",
              "      <td>0.677431</td>\n",
              "      <td>8.58294</td>\n",
              "      <td>4.37332</td>\n",
              "      <td>NaN</td>\n",
              "      <td>NaN</td>\n",
              "      <td>9.94159</td>\n",
              "      <td>0.0663541</td>\n",
              "      <td>0.0091119</td>\n",
              "      <td>NaN</td>\n",
              "      <td>2.8339</td>\n",
              "      <td>3.54448</td>\n",
              "      <td>3.74956</td>\n",
              "      <td>NaN</td>\n",
              "      <td>NaN</td>\n",
              "      <td>0.477972</td>\n",
              "      <td>3.55137</td>\n",
              "      <td>0.274753</td>\n",
              "      <td>0.649886</td>\n",
              "      <td>0.746164</td>\n",
              "      <td>4.08432</td>\n",
              "      <td>NaN</td>\n",
              "      <td>NaN</td>\n",
              "      <td>0.0586068</td>\n",
              "      <td>10.7708</td>\n",
              "      <td>5.10421</td>\n",
              "      <td>3.66437</td>\n",
              "      <td>NaN</td>\n",
              "      <td>1.65879</td>\n",
              "      <td>1.17038</td>\n",
              "      <td>0.131878</td>\n",
              "      <td>...</td>\n",
              "      <td>NaN</td>\n",
              "      <td>0.704774</td>\n",
              "      <td>NaN</td>\n",
              "      <td>0.0183252</td>\n",
              "      <td>0.951089</td>\n",
              "      <td>NaN</td>\n",
              "      <td>0.0417624</td>\n",
              "      <td>0.135586</td>\n",
              "      <td>NaN</td>\n",
              "      <td>NaN</td>\n",
              "      <td>1.29915</td>\n",
              "      <td>NaN</td>\n",
              "      <td>0.862685</td>\n",
              "      <td>0.178654</td>\n",
              "      <td>0.243502</td>\n",
              "      <td>0.554878</td>\n",
              "      <td>3.04438</td>\n",
              "      <td>0.41337</td>\n",
              "      <td>0.612271</td>\n",
              "      <td>NaN</td>\n",
              "      <td>0.0824442</td>\n",
              "      <td>0.062317</td>\n",
              "      <td>NaN</td>\n",
              "      <td>1.68906</td>\n",
              "      <td>1.70159</td>\n",
              "      <td>15.9998</td>\n",
              "      <td>NaN</td>\n",
              "      <td>0.135853</td>\n",
              "      <td>7.00941</td>\n",
              "      <td>NaN</td>\n",
              "      <td>NaN</td>\n",
              "      <td>0.229314</td>\n",
              "      <td>NaN</td>\n",
              "      <td>3.09916</td>\n",
              "      <td>0.135028</td>\n",
              "      <td>NaN</td>\n",
              "      <td>0.683679</td>\n",
              "      <td>5.72722</td>\n",
              "      <td>NaN</td>\n",
              "      <td>NaN</td>\n",
              "    </tr>\n",
              "  </tbody>\n",
              "</table>\n",
              "<p>5 rows × 264 columns</p>\n",
              "</div>"
            ],
            "text/plain": [
              "                                                     0  ...                                     263\n",
              "Country Name                                     Aruba  ...                                Zimbabwe\n",
              "Country Code                                       ABW  ...                                     ZWE\n",
              "Indicator Name  CO2 emissions (metric tons per capita)  ...  CO2 emissions (metric tons per capita)\n",
              "Indicator Code                          EN.ATM.CO2E.PC  ...                          EN.ATM.CO2E.PC\n",
              "1960                                               NaN  ...                                     NaN\n",
              "\n",
              "[5 rows x 264 columns]"
            ]
          },
          "metadata": {
            "tags": []
          },
          "execution_count": 34
        }
      ]
    },
    {
      "cell_type": "code",
      "metadata": {
        "id": "eYdktTaaGAGh",
        "colab_type": "code",
        "colab": {}
      },
      "source": [
        "\n",
        "world  = pd.DataFrame()\n",
        "world['co2'] = co2t[257][4:]"
      ],
      "execution_count": 0,
      "outputs": []
    },
    {
      "cell_type": "code",
      "metadata": {
        "id": "HWhU5AenGG_S",
        "colab_type": "code",
        "outputId": "4aebb3ea-98c6-4483-ec16-14b68da78b24",
        "colab": {
          "base_uri": "https://localhost:8080/",
          "height": 197
        }
      },
      "source": [
        "world.head()"
      ],
      "execution_count": 36,
      "outputs": [
        {
          "output_type": "execute_result",
          "data": {
            "text/html": [
              "<div>\n",
              "<style scoped>\n",
              "    .dataframe tbody tr th:only-of-type {\n",
              "        vertical-align: middle;\n",
              "    }\n",
              "\n",
              "    .dataframe tbody tr th {\n",
              "        vertical-align: top;\n",
              "    }\n",
              "\n",
              "    .dataframe thead th {\n",
              "        text-align: right;\n",
              "    }\n",
              "</style>\n",
              "<table border=\"1\" class=\"dataframe\">\n",
              "  <thead>\n",
              "    <tr style=\"text-align: right;\">\n",
              "      <th></th>\n",
              "      <th>co2</th>\n",
              "    </tr>\n",
              "  </thead>\n",
              "  <tbody>\n",
              "    <tr>\n",
              "      <th>1960</th>\n",
              "      <td>3.09916</td>\n",
              "    </tr>\n",
              "    <tr>\n",
              "      <th>1961</th>\n",
              "      <td>3.07002</td>\n",
              "    </tr>\n",
              "    <tr>\n",
              "      <th>1962</th>\n",
              "      <td>3.14096</td>\n",
              "    </tr>\n",
              "    <tr>\n",
              "      <th>1963</th>\n",
              "      <td>3.24511</td>\n",
              "    </tr>\n",
              "    <tr>\n",
              "      <th>1964</th>\n",
              "      <td>3.36138</td>\n",
              "    </tr>\n",
              "  </tbody>\n",
              "</table>\n",
              "</div>"
            ],
            "text/plain": [
              "          co2\n",
              "1960  3.09916\n",
              "1961  3.07002\n",
              "1962  3.14096\n",
              "1963  3.24511\n",
              "1964  3.36138"
            ]
          },
          "metadata": {
            "tags": []
          },
          "execution_count": 36
        }
      ]
    },
    {
      "cell_type": "code",
      "metadata": {
        "ExecuteTime": {
          "end_time": "2020-02-27T23:57:02.152449Z",
          "start_time": "2020-02-27T23:57:02.149007Z"
        },
        "id": "nRwxu-pYu9XV",
        "colab_type": "code",
        "colab": {}
      },
      "source": [
        "world.index = pd.to_datetime(world.index)\n",
        "#world.rename...\n",
        "#world.index.."
      ],
      "execution_count": 0,
      "outputs": []
    },
    {
      "cell_type": "code",
      "metadata": {
        "id": "6emJp47wziwy",
        "colab_type": "code",
        "outputId": "5308283e-4060-4d3a-f7a3-034b97ef8691",
        "colab": {
          "base_uri": "https://localhost:8080/",
          "height": 197
        }
      },
      "source": [
        "#leave \n",
        "world.head()"
      ],
      "execution_count": 38,
      "outputs": [
        {
          "output_type": "execute_result",
          "data": {
            "text/html": [
              "<div>\n",
              "<style scoped>\n",
              "    .dataframe tbody tr th:only-of-type {\n",
              "        vertical-align: middle;\n",
              "    }\n",
              "\n",
              "    .dataframe tbody tr th {\n",
              "        vertical-align: top;\n",
              "    }\n",
              "\n",
              "    .dataframe thead th {\n",
              "        text-align: right;\n",
              "    }\n",
              "</style>\n",
              "<table border=\"1\" class=\"dataframe\">\n",
              "  <thead>\n",
              "    <tr style=\"text-align: right;\">\n",
              "      <th></th>\n",
              "      <th>co2</th>\n",
              "    </tr>\n",
              "  </thead>\n",
              "  <tbody>\n",
              "    <tr>\n",
              "      <th>1960-01-01</th>\n",
              "      <td>3.09916</td>\n",
              "    </tr>\n",
              "    <tr>\n",
              "      <th>1961-01-01</th>\n",
              "      <td>3.07002</td>\n",
              "    </tr>\n",
              "    <tr>\n",
              "      <th>1962-01-01</th>\n",
              "      <td>3.14096</td>\n",
              "    </tr>\n",
              "    <tr>\n",
              "      <th>1963-01-01</th>\n",
              "      <td>3.24511</td>\n",
              "    </tr>\n",
              "    <tr>\n",
              "      <th>1964-01-01</th>\n",
              "      <td>3.36138</td>\n",
              "    </tr>\n",
              "  </tbody>\n",
              "</table>\n",
              "</div>"
            ],
            "text/plain": [
              "                co2\n",
              "1960-01-01  3.09916\n",
              "1961-01-01  3.07002\n",
              "1962-01-01  3.14096\n",
              "1963-01-01  3.24511\n",
              "1964-01-01  3.36138"
            ]
          },
          "metadata": {
            "tags": []
          },
          "execution_count": 38
        }
      ]
    },
    {
      "cell_type": "code",
      "metadata": {
        "ExecuteTime": {
          "end_time": "2020-02-27T23:57:07.860945Z",
          "start_time": "2020-02-27T23:57:07.723174Z"
        },
        "id": "fbS6OO11u9Xi",
        "colab_type": "code",
        "outputId": "2b5e6b12-536b-4435-98ae-e518f68ee791",
        "colab": {
          "base_uri": "https://localhost:8080/",
          "height": 264
        }
      },
      "source": [
        "#leave \n",
        "world.plot()\n",
        "pl.ylabel(\"CO2\"); "
      ],
      "execution_count": 39,
      "outputs": [
        {
          "output_type": "display_data",
          "data": {
            "image/png": "[encoded data removed]",
            "text/plain": [
              "<Figure size 432x288 with 1 Axes>"
            ]
          },
          "metadata": {
            "tags": []
          }
        }
      ]
    },
    {
      "cell_type": "markdown",
      "metadata": {
        "id": "p2HGPLTmmLN2",
        "colab_type": "text"
      },
      "source": [
        "**Figure 2.** Standardized time series of CO2 levels. On the x axis are the years represented, on the y axis is the amount of CO2 reported (standardized). "
      ]
    },
    {
      "cell_type": "code",
      "metadata": {
        "id": "GeZPtOWmIcf0",
        "colab_type": "code",
        "outputId": "68b1c401-e7bb-44eb-8487-f8fe293f8630",
        "colab": {
          "base_uri": "https://localhost:8080/",
          "height": 230
        }
      },
      "source": [
        "world.index[world.index<=pd.to_datetime('2003')]"
      ],
      "execution_count": 40,
      "outputs": [
        {
          "output_type": "execute_result",
          "data": {
            "text/plain": [
              "DatetimeIndex(['1960-01-01', '1961-01-01', '1962-01-01', '1963-01-01',\n",
              "               '1964-01-01', '1965-01-01', '1966-01-01', '1967-01-01',\n",
              "               '1968-01-01', '1969-01-01', '1970-01-01', '1971-01-01',\n",
              "               '1972-01-01', '1973-01-01', '1974-01-01', '1975-01-01',\n",
              "               '1976-01-01', '1977-01-01', '1978-01-01', '1979-01-01',\n",
              "               '1980-01-01', '1981-01-01', '1982-01-01', '1983-01-01',\n",
              "               '1984-01-01', '1985-01-01', '1986-01-01', '1987-01-01',\n",
              "               '1988-01-01', '1989-01-01', '1990-01-01', '1991-01-01',\n",
              "               '1992-01-01', '1993-01-01', '1994-01-01', '1995-01-01',\n",
              "               '1996-01-01', '1997-01-01', '1998-01-01', '1999-01-01',\n",
              "               '2000-01-01', '2001-01-01', '2002-01-01', '2003-01-01'],\n",
              "              dtype='datetime64[ns]', freq=None)"
            ]
          },
          "metadata": {
            "tags": []
          },
          "execution_count": 40
        }
      ]
    },
    {
      "cell_type": "markdown",
      "metadata": {
        "id": "XMMGu4PHz-Pn",
        "colab_type": "text"
      },
      "source": [
        " standardize the data by subtracting by the mean **over the time period 1960-2003** (which is the period that you will use) and dividing by the stdev over the same period"
      ]
    },
    {
      "cell_type": "code",
      "metadata": {
        "id": "HqHlHrPuz2Ip",
        "colab_type": "code",
        "colab": {}
      },
      "source": [
        "world = (world.co2[world.index<=pd.to_datetime('2003')] - mean(world.co2[world.index<=pd.to_datetime('2003')]))/(std(world.co2[world.index<=pd.to_datetime('2003')]))\n"
      ],
      "execution_count": 0,
      "outputs": []
    },
    {
      "cell_type": "code",
      "metadata": {
        "id": "8LSygRVV0T-S",
        "colab_type": "code",
        "outputId": "aed3f6ac-1f78-4b37-e071-dd7e5d771ede",
        "colab": {
          "base_uri": "https://localhost:8080/",
          "height": 451
        }
      },
      "source": [
        "#leave\n",
        "ax = world.plot()\n",
        "pl.ylabel(\"Co2\"); \n",
        "world.loc[(world.index > pd.datetime('1980') & (world.index <= pd.datetime('2003')))].plot(ax=ax);"
      ],
      "execution_count": 45,
      "outputs": [
        {
          "output_type": "error",
          "ename": "TypeError",
          "evalue": "ignored",
          "traceback": [
            "\u001b[0;31m---------------------------------------------------------------------------\u001b[0m",
            "\u001b[0;31mTypeError\u001b[0m                                 Traceback (most recent call last)",
            "\u001b[0;32m<ipython-input-45-80a25ad45764>\u001b[0m in \u001b[0;36m<module>\u001b[0;34m()\u001b[0m\n\u001b[1;32m      1\u001b[0m \u001b[0max\u001b[0m \u001b[0;34m=\u001b[0m \u001b[0mworld\u001b[0m\u001b[0;34m.\u001b[0m\u001b[0mplot\u001b[0m\u001b[0;34m(\u001b[0m\u001b[0;34m)\u001b[0m\u001b[0;34m\u001b[0m\u001b[0;34m\u001b[0m\u001b[0m\n\u001b[1;32m      2\u001b[0m \u001b[0mpl\u001b[0m\u001b[0;34m.\u001b[0m\u001b[0mylabel\u001b[0m\u001b[0;34m(\u001b[0m\u001b[0;34m\"Co2\"\u001b[0m\u001b[0;34m)\u001b[0m\u001b[0;34m;\u001b[0m\u001b[0;34m\u001b[0m\u001b[0;34m\u001b[0m\u001b[0m\n\u001b[0;32m----> 3\u001b[0;31m \u001b[0mworld\u001b[0m\u001b[0;34m.\u001b[0m\u001b[0mloc\u001b[0m\u001b[0;34m[\u001b[0m\u001b[0;34m(\u001b[0m\u001b[0mworld\u001b[0m\u001b[0;34m.\u001b[0m\u001b[0mindex\u001b[0m \u001b[0;34m>\u001b[0m \u001b[0mpd\u001b[0m\u001b[0;34m.\u001b[0m\u001b[0mdatetime\u001b[0m\u001b[0;34m(\u001b[0m\u001b[0;34m'1980'\u001b[0m\u001b[0;34m)\u001b[0m \u001b[0;34m&\u001b[0m \u001b[0;34m(\u001b[0m\u001b[0mworld\u001b[0m\u001b[0;34m.\u001b[0m\u001b[0mindex\u001b[0m \u001b[0;34m<=\u001b[0m \u001b[0mpd\u001b[0m\u001b[0;34m.\u001b[0m\u001b[0mdatetime\u001b[0m\u001b[0;34m(\u001b[0m\u001b[0;34m'2003'\u001b[0m\u001b[0;34m)\u001b[0m\u001b[0;34m)\u001b[0m\u001b[0;34m)\u001b[0m\u001b[0;34m]\u001b[0m\u001b[0;34m.\u001b[0m\u001b[0mplot\u001b[0m\u001b[0;34m(\u001b[0m\u001b[0max\u001b[0m\u001b[0;34m=\u001b[0m\u001b[0max\u001b[0m\u001b[0;34m)\u001b[0m\u001b[0;34m;\u001b[0m\u001b[0;34m\u001b[0m\u001b[0;34m\u001b[0m\u001b[0m\n\u001b[0m",
            "\u001b[0;31mTypeError\u001b[0m: an integer is required (got type str)"
          ]
        },
        {
          "output_type": "display_data",
          "data": {
            "image/png": "[encoded data removed]",
            "text/plain": [
              "<Figure size 432x288 with 1 Axes>"
            ]
          },
          "metadata": {
            "tags": []
          }
        }
      ]
    },
    {
      "cell_type": "markdown",
      "metadata": {
        "id": "XY8lHmvQCw0I",
        "colab_type": "text"
      },
      "source": [
        "**Figure 3.** Standardized time series of CO2 levels. On the x axis are the years represented, on the y axis is the amount of CO2 reported (standardized). "
      ]
    },
    {
      "cell_type": "markdown",
      "metadata": {
        "id": "SBvLMYC9B_a1",
        "colab_type": "text"
      },
      "source": [
        "## Solar Irradiance"
      ]
    },
    {
      "cell_type": "markdown",
      "metadata": {
        "id": "ikGfHn5x0tmg",
        "colab_type": "text"
      },
      "source": [
        "acquire the solar irradiance data from http://lasp.colorado.edu/data/sorce/tsi_data/TSI_TIM_Reconstruction.txt.  Explore the data as you did for the CO2 dataset. Modify the dataframe so that it has year as the index (pd.data_frame() type) and \"[W/m^2]\" is the only column, which you should rename \"irradiance\". Each year shoud have a single entry, the mean for that year, which you can obtain with the method DataFrame.groupby() and the .mean() method applied to the groupby object as \n",
        "\n",
        "```sIr.groupby(\"Year\").mean()```"
      ]
    },
    {
      "cell_type": "code",
      "metadata": {
        "id": "0LpNNVj8o5Ez",
        "colab_type": "code",
        "colab": {}
      },
      "source": [
        "sIr = pd.read_csv('sIr.csv')"
      ],
      "execution_count": 0,
      "outputs": []
    },
    {
      "cell_type": "code",
      "metadata": {
        "id": "0rDMGJYJpmsf",
        "colab_type": "code",
        "colab": {
          "base_uri": "https://localhost:8080/",
          "height": 287
        },
        "outputId": "6884cb29-a023-4661-e501-4ddb605e8959"
      },
      "source": [
        "sIr.describe()"
      ],
      "execution_count": 52,
      "outputs": [
        {
          "output_type": "execute_result",
          "data": {
            "text/html": [
              "<div>\n",
              "<style scoped>\n",
              "    .dataframe tbody tr th:only-of-type {\n",
              "        vertical-align: middle;\n",
              "    }\n",
              "\n",
              "    .dataframe tbody tr th {\n",
              "        vertical-align: top;\n",
              "    }\n",
              "\n",
              "    .dataframe thead th {\n",
              "        text-align: right;\n",
              "    }\n",
              "</style>\n",
              "<table border=\"1\" class=\"dataframe\">\n",
              "  <thead>\n",
              "    <tr style=\"text-align: right;\">\n",
              "      <th></th>\n",
              "      <th>Year</th>\n",
              "      <th>TSI</th>\n",
              "    </tr>\n",
              "  </thead>\n",
              "  <tbody>\n",
              "    <tr>\n",
              "      <th>count</th>\n",
              "      <td>404.000000</td>\n",
              "      <td>4.040000e+02</td>\n",
              "    </tr>\n",
              "    <tr>\n",
              "      <th>mean</th>\n",
              "      <td>1811.500000</td>\n",
              "      <td>1.393050e+05</td>\n",
              "    </tr>\n",
              "    <tr>\n",
              "      <th>std</th>\n",
              "      <td>116.769003</td>\n",
              "      <td>4.109640e+05</td>\n",
              "    </tr>\n",
              "    <tr>\n",
              "      <th>min</th>\n",
              "      <td>1610.000000</td>\n",
              "      <td>1.359866e+03</td>\n",
              "    </tr>\n",
              "    <tr>\n",
              "      <th>25%</th>\n",
              "      <td>1710.750000</td>\n",
              "      <td>1.360191e+03</td>\n",
              "    </tr>\n",
              "    <tr>\n",
              "      <th>50%</th>\n",
              "      <td>1811.500000</td>\n",
              "      <td>1.360472e+03</td>\n",
              "    </tr>\n",
              "    <tr>\n",
              "      <th>75%</th>\n",
              "      <td>1912.250000</td>\n",
              "      <td>1.360978e+03</td>\n",
              "    </tr>\n",
              "    <tr>\n",
              "      <th>max</th>\n",
              "      <td>2013.000000</td>\n",
              "      <td>1.361834e+06</td>\n",
              "    </tr>\n",
              "  </tbody>\n",
              "</table>\n",
              "</div>"
            ],
            "text/plain": [
              "              Year           TSI\n",
              "count   404.000000  4.040000e+02\n",
              "mean   1811.500000  1.393050e+05\n",
              "std     116.769003  4.109640e+05\n",
              "min    1610.000000  1.359866e+03\n",
              "25%    1710.750000  1.360191e+03\n",
              "50%    1811.500000  1.360472e+03\n",
              "75%    1912.250000  1.360978e+03\n",
              "max    2013.000000  1.361834e+06"
            ]
          },
          "metadata": {
            "tags": []
          },
          "execution_count": 52
        }
      ]
    },
    {
      "cell_type": "code",
      "metadata": {
        "id": "rHZ1G96jptw-",
        "colab_type": "code",
        "colab": {
          "base_uri": "https://localhost:8080/",
          "height": 197
        },
        "outputId": "a3eae139-e346-4a6e-935c-4c39ef6f2c6c"
      },
      "source": [
        "sIr.head()"
      ],
      "execution_count": 53,
      "outputs": [
        {
          "output_type": "execute_result",
          "data": {
            "text/html": [
              "<div>\n",
              "<style scoped>\n",
              "    .dataframe tbody tr th:only-of-type {\n",
              "        vertical-align: middle;\n",
              "    }\n",
              "\n",
              "    .dataframe tbody tr th {\n",
              "        vertical-align: top;\n",
              "    }\n",
              "\n",
              "    .dataframe thead th {\n",
              "        text-align: right;\n",
              "    }\n",
              "</style>\n",
              "<table border=\"1\" class=\"dataframe\">\n",
              "  <thead>\n",
              "    <tr style=\"text-align: right;\">\n",
              "      <th></th>\n",
              "      <th>Year</th>\n",
              "      <th>TSI</th>\n",
              "    </tr>\n",
              "  </thead>\n",
              "  <tbody>\n",
              "    <tr>\n",
              "      <th>0</th>\n",
              "      <td>1610</td>\n",
              "      <td>1359.8655</td>\n",
              "    </tr>\n",
              "    <tr>\n",
              "      <th>1</th>\n",
              "      <td>1611</td>\n",
              "      <td>1360.2017</td>\n",
              "    </tr>\n",
              "    <tr>\n",
              "      <th>2</th>\n",
              "      <td>1612</td>\n",
              "      <td>1360.4352</td>\n",
              "    </tr>\n",
              "    <tr>\n",
              "      <th>3</th>\n",
              "      <td>1613</td>\n",
              "      <td>1360.7561</td>\n",
              "    </tr>\n",
              "    <tr>\n",
              "      <th>4</th>\n",
              "      <td>1614</td>\n",
              "      <td>1360.9097</td>\n",
              "    </tr>\n",
              "  </tbody>\n",
              "</table>\n",
              "</div>"
            ],
            "text/plain": [
              "   Year        TSI\n",
              "0  1610  1359.8655\n",
              "1  1611  1360.2017\n",
              "2  1612  1360.4352\n",
              "3  1613  1360.7561\n",
              "4  1614  1360.9097"
            ]
          },
          "metadata": {
            "tags": []
          },
          "execution_count": 53
        }
      ]
    },
    {
      "cell_type": "code",
      "metadata": {
        "ExecuteTime": {
          "end_time": "2020-02-27T23:57:55.562301Z",
          "start_time": "2020-02-27T23:57:55.385276Z"
        },
        "colab_type": "code",
        "outputId": "2b50628a-e317-474b-c8f3-eebc98c4fea1",
        "id": "PjwUgqJU2bQL",
        "colab": {
          "base_uri": "https://localhost:8080/",
          "height": 221
        }
      },
      "source": [
        "sIr  = pd.DataFrame()\n",
        "sIr.index = pd.to_datetime(sIr.index)\n",
        "\n",
        "sIr.columns()\n",
        "\n"
      ],
      "execution_count": 55,
      "outputs": [
        {
          "output_type": "error",
          "ename": "TypeError",
          "evalue": "ignored",
          "traceback": [
            "\u001b[0;31m---------------------------------------------------------------------------\u001b[0m",
            "\u001b[0;31mTypeError\u001b[0m                                 Traceback (most recent call last)",
            "\u001b[0;32m<ipython-input-55-ec4c73ba7067>\u001b[0m in \u001b[0;36m<module>\u001b[0;34m()\u001b[0m\n\u001b[1;32m      2\u001b[0m \u001b[0msIr\u001b[0m\u001b[0;34m.\u001b[0m\u001b[0mindex\u001b[0m \u001b[0;34m=\u001b[0m \u001b[0mpd\u001b[0m\u001b[0;34m.\u001b[0m\u001b[0mto_datetime\u001b[0m\u001b[0;34m(\u001b[0m\u001b[0msIr\u001b[0m\u001b[0;34m.\u001b[0m\u001b[0mindex\u001b[0m\u001b[0;34m)\u001b[0m\u001b[0;34m\u001b[0m\u001b[0;34m\u001b[0m\u001b[0m\n\u001b[1;32m      3\u001b[0m \u001b[0;34m\u001b[0m\u001b[0m\n\u001b[0;32m----> 4\u001b[0;31m \u001b[0msIr\u001b[0m\u001b[0;34m.\u001b[0m\u001b[0mcolumns\u001b[0m\u001b[0;34m(\u001b[0m\u001b[0;34m)\u001b[0m\u001b[0;34m\u001b[0m\u001b[0;34m\u001b[0m\u001b[0m\n\u001b[0m\u001b[1;32m      5\u001b[0m \u001b[0;34m\u001b[0m\u001b[0m\n",
            "\u001b[0;31mTypeError\u001b[0m: 'Index' object is not callable"
          ]
        }
      ]
    },
    {
      "cell_type": "code",
      "metadata": {
        "id": "a0a3rvYa2eL8",
        "colab_type": "code",
        "outputId": "e76bf314-7754-4bf8-c437-be5dc54a89ca",
        "colab": {
          "base_uri": "https://localhost:8080/",
          "height": 287
        }
      },
      "source": [
        "sIr.describe()"
      ],
      "execution_count": 0,
      "outputs": [
        {
          "output_type": "execute_result",
          "data": {
            "text/html": [
              "<div>\n",
              "<style scoped>\n",
              "    .dataframe tbody tr th:only-of-type {\n",
              "        vertical-align: middle;\n",
              "    }\n",
              "\n",
              "    .dataframe tbody tr th {\n",
              "        vertical-align: top;\n",
              "    }\n",
              "\n",
              "    .dataframe thead th {\n",
              "        text-align: right;\n",
              "    }\n",
              "</style>\n",
              "<table border=\"1\" class=\"dataframe\">\n",
              "  <thead>\n",
              "    <tr style=\"text-align: right;\">\n",
              "      <th></th>\n",
              "      <th>;</th>\n",
              "      <th>Year</th>\n",
              "      <th>Unnamed: 2</th>\n",
              "      <th>Unnamed: 3</th>\n",
              "      <th>TSI</th>\n",
              "      <th>[W/m^2]</th>\n",
              "    </tr>\n",
              "  </thead>\n",
              "  <tbody>\n",
              "    <tr>\n",
              "      <th>count</th>\n",
              "      <td>404.000000</td>\n",
              "      <td>0.0</td>\n",
              "      <td>0.0</td>\n",
              "      <td>0.0</td>\n",
              "      <td>0.0</td>\n",
              "      <td>404.000000</td>\n",
              "    </tr>\n",
              "    <tr>\n",
              "      <th>mean</th>\n",
              "      <td>1812.000000</td>\n",
              "      <td>NaN</td>\n",
              "      <td>NaN</td>\n",
              "      <td>NaN</td>\n",
              "      <td>NaN</td>\n",
              "      <td>1360.543793</td>\n",
              "    </tr>\n",
              "    <tr>\n",
              "      <th>std</th>\n",
              "      <td>116.769003</td>\n",
              "      <td>NaN</td>\n",
              "      <td>NaN</td>\n",
              "      <td>NaN</td>\n",
              "      <td>NaN</td>\n",
              "      <td>0.464534</td>\n",
              "    </tr>\n",
              "    <tr>\n",
              "      <th>min</th>\n",
              "      <td>1610.500000</td>\n",
              "      <td>NaN</td>\n",
              "      <td>NaN</td>\n",
              "      <td>NaN</td>\n",
              "      <td>NaN</td>\n",
              "      <td>1359.865500</td>\n",
              "    </tr>\n",
              "    <tr>\n",
              "      <th>25%</th>\n",
              "      <td>1711.250000</td>\n",
              "      <td>NaN</td>\n",
              "      <td>NaN</td>\n",
              "      <td>NaN</td>\n",
              "      <td>NaN</td>\n",
              "      <td>1360.191125</td>\n",
              "    </tr>\n",
              "    <tr>\n",
              "      <th>50%</th>\n",
              "      <td>1812.000000</td>\n",
              "      <td>NaN</td>\n",
              "      <td>NaN</td>\n",
              "      <td>NaN</td>\n",
              "      <td>NaN</td>\n",
              "      <td>1360.471800</td>\n",
              "    </tr>\n",
              "    <tr>\n",
              "      <th>75%</th>\n",
              "      <td>1912.750000</td>\n",
              "      <td>NaN</td>\n",
              "      <td>NaN</td>\n",
              "      <td>NaN</td>\n",
              "      <td>NaN</td>\n",
              "      <td>1360.821275</td>\n",
              "    </tr>\n",
              "    <tr>\n",
              "      <th>max</th>\n",
              "      <td>2013.500000</td>\n",
              "      <td>NaN</td>\n",
              "      <td>NaN</td>\n",
              "      <td>NaN</td>\n",
              "      <td>NaN</td>\n",
              "      <td>1362.142500</td>\n",
              "    </tr>\n",
              "  </tbody>\n",
              "</table>\n",
              "</div>"
            ],
            "text/plain": [
              "                 ;  Year  Unnamed: 2  Unnamed: 3  TSI      [W/m^2]\n",
              "count   404.000000   0.0         0.0         0.0  0.0   404.000000\n",
              "mean   1812.000000   NaN         NaN         NaN  NaN  1360.543793\n",
              "std     116.769003   NaN         NaN         NaN  NaN     0.464534\n",
              "min    1610.500000   NaN         NaN         NaN  NaN  1359.865500\n",
              "25%    1711.250000   NaN         NaN         NaN  NaN  1360.191125\n",
              "50%    1812.000000   NaN         NaN         NaN  NaN  1360.471800\n",
              "75%    1912.750000   NaN         NaN         NaN  NaN  1360.821275\n",
              "max    2013.500000   NaN         NaN         NaN  NaN  1362.142500"
            ]
          },
          "metadata": {
            "tags": []
          },
          "execution_count": 23
        }
      ]
    },
    {
      "cell_type": "code",
      "metadata": {
        "ExecuteTime": {
          "end_time": "2020-02-27T23:57:56.355652Z",
          "start_time": "2020-02-27T23:57:56.348886Z"
        },
        "id": "QM4anKBxu9X3",
        "colab_type": "code",
        "colab": {}
      },
      "source": [
        "...\n",
        "sIr = sIr.groupby...\n",
        "sIr.rename..."
      ],
      "execution_count": 0,
      "outputs": []
    },
    {
      "cell_type": "markdown",
      "metadata": {
        "id": "sBvTifl83u15",
        "colab_type": "text"
      },
      "source": [
        "\n",
        "Standardize the data by the value **strting in 1960**. (subtract by the mean and divide by the standard deviation)\n"
      ]
    },
    {
      "cell_type": "code",
      "metadata": {
        "id": "BIfDktv-37Z5",
        "colab_type": "code",
        "colab": {}
      },
      "source": [
        "sIr..."
      ],
      "execution_count": 0,
      "outputs": []
    },
    {
      "cell_type": "code",
      "metadata": {
        "ExecuteTime": {
          "end_time": "2020-02-27T23:56:13.450701Z",
          "start_time": "2020-02-27T23:56:12.585867Z"
        },
        "id": "CFBT4P0Fu9YE",
        "colab_type": "code",
        "outputId": "82975261-2f4d-4f74-d0f7-ebc66f80361c",
        "colab": {
          "base_uri": "https://localhost:8080/",
          "height": 278
        }
      },
      "source": [
        "#leave\n",
        "ax = sIr.plot()\n",
        "ax = sIr[sIr.index>1960].plot(ax=ax);\n",
        "pl.ylabel(\"Solar Irradiance\");"
      ],
      "execution_count": 0,
      "outputs": [
        {
          "output_type": "display_data",
          "data": {
            "image/png": "[encoded data removed]",
            "text/plain": [
              "<Figure size 432x288 with 1 Axes>"
            ]
          },
          "metadata": {
            "tags": []
          }
        }
      ]
    },
    {
      "cell_type": "markdown",
      "metadata": {
        "id": "ABrh7wzqCsDl",
        "colab_type": "text"
      },
      "source": [
        "caption..."
      ]
    },
    {
      "cell_type": "markdown",
      "metadata": {
        "id": "7VMj4ZGFCUT_",
        "colab_type": "text"
      },
      "source": [
        "# Global Temperature Anomaly"
      ]
    },
    {
      "cell_type": "markdown",
      "metadata": {
        "id": "mHCQ4imE4JmR",
        "colab_type": "text"
      },
      "source": [
        "acquire the global anomaly (temperature difference) data which I save in the MLTSA_FBianco/HW4 repository as \"GLB.Ts%2BdSST.csv\"(never say that I am not nice!!)\n",
        "\n",
        "This required some tricks to set the years as index due to missing values. the soution is in the repository README but I encourage you to figure out how to do it yourself (maybe in a single line of code!)\n"
      ]
    },
    {
      "cell_type": "code",
      "metadata": {
        "ExecuteTime": {
          "end_time": "2020-02-27T23:58:06.030455Z",
          "start_time": "2020-02-27T23:58:06.027532Z"
        },
        "id": "_RkWvAO1u9YJ",
        "colab_type": "code",
        "outputId": "5d90f19e-42eb-4a41-fc33-73e96621c9db",
        "colab": {
          "base_uri": "https://localhost:8080/",
          "height": 227
        }
      },
      "source": [
        "...\n",
        "gt.head()"
      ],
      "execution_count": 0,
      "outputs": [
        {
          "output_type": "execute_result",
          "data": {
            "text/html": [
              "<div>\n",
              "<style scoped>\n",
              "    .dataframe tbody tr th:only-of-type {\n",
              "        vertical-align: middle;\n",
              "    }\n",
              "\n",
              "    .dataframe tbody tr th {\n",
              "        vertical-align: top;\n",
              "    }\n",
              "\n",
              "    .dataframe thead th {\n",
              "        text-align: right;\n",
              "    }\n",
              "</style>\n",
              "<table border=\"1\" class=\"dataframe\">\n",
              "  <thead>\n",
              "    <tr style=\"text-align: right;\">\n",
              "      <th></th>\n",
              "      <th>Anomaly</th>\n",
              "    </tr>\n",
              "    <tr>\n",
              "      <th>Year</th>\n",
              "      <th></th>\n",
              "    </tr>\n",
              "  </thead>\n",
              "  <tbody>\n",
              "    <tr>\n",
              "      <th>1880</th>\n",
              "      <td>-0.187500</td>\n",
              "    </tr>\n",
              "    <tr>\n",
              "      <th>1881</th>\n",
              "      <td>-0.100833</td>\n",
              "    </tr>\n",
              "    <tr>\n",
              "      <th>1882</th>\n",
              "      <td>-0.110000</td>\n",
              "    </tr>\n",
              "    <tr>\n",
              "      <th>1883</th>\n",
              "      <td>-0.191667</td>\n",
              "    </tr>\n",
              "    <tr>\n",
              "      <th>1884</th>\n",
              "      <td>-0.294167</td>\n",
              "    </tr>\n",
              "  </tbody>\n",
              "</table>\n",
              "</div>"
            ],
            "text/plain": [
              "       Anomaly\n",
              "Year          \n",
              "1880 -0.187500\n",
              "1881 -0.100833\n",
              "1882 -0.110000\n",
              "1883 -0.191667\n",
              "1884 -0.294167"
            ]
          },
          "metadata": {
            "tags": []
          },
          "execution_count": 32
        }
      ]
    },
    {
      "cell_type": "markdown",
      "metadata": {
        "id": "F-_2xsAZ5UQV",
        "colab_type": "text"
      },
      "source": [
        "Standardize the anomaly data between 1960 and 2003"
      ]
    },
    {
      "cell_type": "code",
      "metadata": {
        "ExecuteTime": {
          "end_time": "2020-02-27T23:58:20.758985Z",
          "start_time": "2020-02-27T23:58:20.602081Z"
        },
        "id": "GYrYJ-Oqu9YS",
        "colab_type": "code",
        "outputId": "ed38002b-e2e6-451a-b9c8-a3e5d2b727ed",
        "colab": {
          "base_uri": "https://localhost:8080/",
          "height": 301
        }
      },
      "source": [
        "gt...\n",
        "ax = gt.plot()\n",
        "gt[(gt.index > 1960) & (gt.index <= 2003)].plot(ax=ax)\n",
        "pl.ylabel(\"temperature anomaly\")"
      ],
      "execution_count": 0,
      "outputs": [
        {
          "output_type": "execute_result",
          "data": {
            "text/plain": [
              "Text(0, 0.5, 'temperature anomaly')"
            ]
          },
          "metadata": {
            "tags": []
          },
          "execution_count": 35
        },
        {
          "output_type": "display_data",
          "data": {
            "image/png": "[encoded data removed]",
            "text/plain": [
              "<Figure size 432x288 with 1 Axes>"
            ]
          },
          "metadata": {
            "tags": []
          }
        }
      ]
    },
    {
      "cell_type": "markdown",
      "metadata": {
        "id": "9JRbaTynCpTn",
        "colab_type": "text"
      },
      "source": [
        "caption..."
      ]
    },
    {
      "cell_type": "markdown",
      "metadata": {
        "id": "UrfNUM9h6Ffv",
        "colab_type": "text"
      },
      "source": [
        "Merge all dataframes using the index for all of them as merging column, You can do this in a single command concatenating merge() methods (like in the first homework)."
      ]
    },
    {
      "cell_type": "code",
      "metadata": {
        "ExecuteTime": {
          "end_time": "2020-02-27T23:58:23.393653Z",
          "start_time": "2020-02-27T23:58:23.381787Z"
        },
        "id": "-Sb-hJ9Hu9YT",
        "colab_type": "code",
        "colab": {}
      },
      "source": [
        "climate = pd.merge..."
      ],
      "execution_count": 0,
      "outputs": []
    },
    {
      "cell_type": "code",
      "metadata": {
        "ExecuteTime": {
          "end_time": "2020-02-28T00:00:02.509835Z",
          "start_time": "2020-02-28T00:00:02.352047Z"
        },
        "id": "A5Z6eJpIu9YY",
        "colab_type": "code",
        "outputId": "6fd77aa4-b635-4034-bda1-92b65ab10ce1",
        "colab": {
          "base_uri": "https://localhost:8080/",
          "height": 282
        }
      },
      "source": [
        "climate[[\"irradiance\", \"co2\", \"Anomaly\"]].plot()"
      ],
      "execution_count": 0,
      "outputs": [
        {
          "output_type": "execute_result",
          "data": {
            "text/plain": [
              "<matplotlib.axes._subplots.AxesSubplot at 0x7ffb017411d0>"
            ]
          },
          "metadata": {
            "tags": []
          },
          "execution_count": 40
        },
        {
          "output_type": "display_data",
          "data": {
            "image/png": "[encoded data removed]",
            "text/plain": [
              "<Figure size 432x288 with 1 Axes>"
            ]
          },
          "metadata": {
            "tags": []
          }
        }
      ]
    },
    {
      "cell_type": "markdown",
      "metadata": {
        "id": "IVl7nST8C2k4",
        "colab_type": "text"
      },
      "source": [
        "caption..."
      ]
    },
    {
      "cell_type": "code",
      "metadata": {
        "ExecuteTime": {
          "end_time": "2020-02-28T00:00:47.975144Z",
          "start_time": "2020-02-28T00:00:47.967436Z"
        },
        "id": "1Y09kYEUu9Yb",
        "colab_type": "code",
        "outputId": "e6813700-0ba6-48ad-e6c1-87ce180c8889",
        "colab": {
          "base_uri": "https://localhost:8080/",
          "height": 287
        }
      },
      "source": [
        "climate.describe()"
      ],
      "execution_count": 0,
      "outputs": [
        {
          "output_type": "execute_result",
          "data": {
            "text/html": [
              "<div>\n",
              "<style scoped>\n",
              "    .dataframe tbody tr th:only-of-type {\n",
              "        vertical-align: middle;\n",
              "    }\n",
              "\n",
              "    .dataframe tbody tr th {\n",
              "        vertical-align: top;\n",
              "    }\n",
              "\n",
              "    .dataframe thead th {\n",
              "        text-align: right;\n",
              "    }\n",
              "</style>\n",
              "<table border=\"1\" class=\"dataframe\">\n",
              "  <thead>\n",
              "    <tr style=\"text-align: right;\">\n",
              "      <th></th>\n",
              "      <th>Anomaly</th>\n",
              "      <th>co2</th>\n",
              "      <th>irradiance</th>\n",
              "    </tr>\n",
              "  </thead>\n",
              "  <tbody>\n",
              "    <tr>\n",
              "      <th>count</th>\n",
              "      <td>53.000000</td>\n",
              "      <td>53.000000</td>\n",
              "      <td>5.300000e+01</td>\n",
              "    </tr>\n",
              "    <tr>\n",
              "      <th>mean</th>\n",
              "      <td>0.360965</td>\n",
              "      <td>0.435486</td>\n",
              "      <td>-1.150432e-12</td>\n",
              "    </tr>\n",
              "    <tr>\n",
              "      <th>std</th>\n",
              "      <td>1.187409</td>\n",
              "      <td>1.313407</td>\n",
              "      <td>1.000000e+00</td>\n",
              "    </tr>\n",
              "    <tr>\n",
              "      <th>min</th>\n",
              "      <td>-1.850355</td>\n",
              "      <td>-2.817157</td>\n",
              "      <td>-1.622573e+00</td>\n",
              "    </tr>\n",
              "    <tr>\n",
              "      <th>25%</th>\n",
              "      <td>-0.637328</td>\n",
              "      <td>0.067079</td>\n",
              "      <td>-8.563154e-01</td>\n",
              "    </tr>\n",
              "    <tr>\n",
              "      <th>50%</th>\n",
              "      <td>0.405720</td>\n",
              "      <td>0.390812</td>\n",
              "      <td>-1.529831e-01</td>\n",
              "    </tr>\n",
              "    <tr>\n",
              "      <th>75%</th>\n",
              "      <td>1.456494</td>\n",
              "      <td>0.997972</td>\n",
              "      <td>6.613319e-01</td>\n",
              "    </tr>\n",
              "    <tr>\n",
              "      <th>max</th>\n",
              "      <td>2.294795</td>\n",
              "      <td>3.090899</td>\n",
              "      <td>1.904178e+00</td>\n",
              "    </tr>\n",
              "  </tbody>\n",
              "</table>\n",
              "</div>"
            ],
            "text/plain": [
              "         Anomaly        co2    irradiance\n",
              "count  53.000000  53.000000  5.300000e+01\n",
              "mean    0.360965   0.435486 -1.150432e-12\n",
              "std     1.187409   1.313407  1.000000e+00\n",
              "min    -1.850355  -2.817157 -1.622573e+00\n",
              "25%    -0.637328   0.067079 -8.563154e-01\n",
              "50%     0.405720   0.390812 -1.529831e-01\n",
              "75%     1.456494   0.997972  6.613319e-01\n",
              "max     2.294795   3.090899  1.904178e+00"
            ]
          },
          "metadata": {
            "tags": []
          },
          "execution_count": 41
        }
      ]
    },
    {
      "cell_type": "markdown",
      "metadata": {
        "id": "k3S-wxHT69Kj",
        "colab_type": "text"
      },
      "source": [
        "# modeling\n",
        " import pydlm to create models of the global temperature anomaly.\n",
        "\n",
        " ## Model 1: \n",
        " Create a model that has \n",
        " - 1 a linera trend of degree 2 \n",
        " - a seasonality with 11 years period which correspond to the 11-years solar cycles https://en.wikipedia.org/wiki/Solar_cycle\n",
        " \n",
        "\n",
        " ## Model 2: \n",
        " Create a model that has \n",
        " - 1 a linera trend of degree 2 \n",
        " - a seasonality with 11 years period \n",
        " - a regression on CO2, \n",
        " \n",
        " \n",
        " ## Model 3\n",
        "remove the regressor on the solar irradiance and see if the model is as good (i.e. does the 11 years cyle takes care of solar irradiance?) (e.g. you can check the MSE as ```model.getMSE()```\n"
      ]
    },
    {
      "cell_type": "markdown",
      "metadata": {
        "id": "YkSbYVuc9HeT",
        "colab_type": "text"
      },
      "source": [
        "You can follow the examples here \n",
        "https://pydlm.github.io/example1.html#dynamic-linear-regression\n"
      ]
    },
    {
      "cell_type": "code",
      "metadata": {
        "ExecuteTime": {
          "end_time": "2020-02-28T00:02:46.196770Z",
          "start_time": "2020-02-28T00:02:46.127496Z"
        },
        "id": "m_IieBtgu9Yd",
        "colab_type": "code",
        "colab": {}
      },
      "source": [
        "# model 1\n",
        "# A linear trend\n",
        "linear_trend = trend(degree=2, discount=0.95, name='trend', w=4)\n",
        "# A seasonality\n",
        "seasonal11 = seasonality(period..., )\n",
        "# Build a simple dlm\n",
        "simple_dlm = dlm(climate.Anomaly) + linear_trend + seasonal11"
      ],
      "execution_count": 0,
      "outputs": []
    },
    {
      "cell_type": "code",
      "metadata": {
        "id": "SJnl7Kos8u-R",
        "colab_type": "code",
        "colab": {}
      },
      "source": [
        "\n",
        "regressor4 = dynamic(features=climate.iloc[:,1:2]...\n",
        "regressed_dlm = ..."
      ],
      "execution_count": 0,
      "outputs": []
    },
    {
      "cell_type": "code",
      "metadata": {
        "id": "nPD3K0Xp8xMa",
        "colab_type": "code",
        "colab": {}
      },
      "source": [
        "regressed_dlm_noir = ..."
      ],
      "execution_count": 0,
      "outputs": []
    },
    {
      "cell_type": "code",
      "metadata": {
        "ExecuteTime": {
          "end_time": "2020-02-28T00:01:32.607031Z",
          "start_time": "2020-02-28T00:01:32.585021Z"
        },
        "id": "3G6XVx_Qu9Ye",
        "colab_type": "code",
        "outputId": "3296bace-569b-4876-fce2-b6c5969e8c54",
        "colab": {
          "base_uri": "https://localhost:8080/",
          "height": 70
        }
      },
      "source": [
        "# Fit  model 1\n",
        "simple_dlm.fit()\n",
        "# Plot the fitted results\n",
        "simple_dlm.turnOff('data points')"
      ],
      "execution_count": 0,
      "outputs": [
        {
          "output_type": "stream",
          "text": [
            "Starting forward filtering...\n",
            "Forward filtering completed.\n",
            "Starting backward smoothing...\n"
          ],
          "name": "stdout"
        }
      ]
    },
    {
      "cell_type": "code",
      "metadata": {
        "ExecuteTime": {
          "end_time": "2020-02-28T00:01:34.094054Z",
          "start_time": "2020-02-28T00:01:34.053997Z"
        },
        "id": "EJI2wm-Eu9Yg",
        "colab_type": "code",
        "outputId": "159794fe-4961-42a1-d818-073658f8f7a2",
        "colab": {
          "base_uri": "https://localhost:8080/",
          "height": 70
        }
      },
      "source": [
        "# Fit  model 2\n",
        "regressed_dlm.fit()\n",
        "# Plot the fitted results\n",
        "regressed_dlm.turnOff('data points')"
      ],
      "execution_count": 0,
      "outputs": [
        {
          "output_type": "stream",
          "text": [
            "Starting forward filtering...\n",
            "Forward filtering completed.\n",
            "Starting backward smoothing...\n"
          ],
          "name": "stdout"
        }
      ]
    },
    {
      "cell_type": "code",
      "metadata": {
        "id": "YL0rpIuw-38W",
        "colab_type": "code",
        "outputId": "b5a6cedb-8512-4773-9615-32b576f1c91f",
        "colab": {
          "base_uri": "https://localhost:8080/",
          "height": 123
        }
      },
      "source": [
        "# Fit  model 3\n",
        "regressed_dlm_noir.fit()\n",
        "# Plot the fitted results\n",
        "regressed_dlm_noir.turnOff('data points')"
      ],
      "execution_count": 0,
      "outputs": [
        {
          "output_type": "stream",
          "text": [
            "Initializing models...\n",
            "Initialization finished.\n",
            "Starting forward filtering...\n",
            "Forward filtering completed.\n",
            "Starting backward smoothing...\n",
            "Backward smoothing completed.\n"
          ],
          "name": "stdout"
        }
      ]
    },
    {
      "cell_type": "code",
      "metadata": {
        "ExecuteTime": {
          "end_time": "2020-02-28T00:00:50.179468Z",
          "start_time": "2020-02-28T00:00:49.895146Z"
        },
        "id": "j1jXl9Avu9Yj",
        "colab_type": "code",
        "outputId": "5ad63544-e5d1-4541-9eb7-07eb22d2491f",
        "colab": {
          "base_uri": "https://localhost:8080/",
          "height": 264
        }
      },
      "source": [
        "simple_dlm.plot()"
      ],
      "execution_count": 0,
      "outputs": [
        {
          "output_type": "display_data",
          "data": {
            "image/png": "[encoded data removed]",
            "text/plain": [
              "<Figure size 432x288 with 3 Axes>"
            ]
          },
          "metadata": {
            "tags": []
          }
        }
      ]
    },
    {
      "cell_type": "markdown",
      "metadata": {
        "id": "67TOvPufDLEd",
        "colab_type": "text"
      },
      "source": [
        "caption..."
      ]
    },
    {
      "cell_type": "code",
      "metadata": {
        "ExecuteTime": {
          "end_time": "2020-02-27T13:59:22.550073Z",
          "start_time": "2020-02-27T13:59:21.912555Z"
        },
        "id": "B0wD8wf8u9Ym",
        "colab_type": "code",
        "outputId": "94035cae-9420-4ac8-c39c-4221bd8162d6",
        "colab": {
          "base_uri": "https://localhost:8080/",
          "height": 264
        }
      },
      "source": [
        "regressed_dlm.plot()"
      ],
      "execution_count": 0,
      "outputs": [
        {
          "output_type": "display_data",
          "data": {
            "image/png": "[encoded data removed]",
            "text/plain": [
              "<Figure size 432x288 with 3 Axes>"
            ]
          },
          "metadata": {
            "tags": []
          }
        }
      ]
    },
    {
      "cell_type": "markdown",
      "metadata": {
        "id": "4yzDYve_DM9x",
        "colab_type": "text"
      },
      "source": [
        "caption..."
      ]
    },
    {
      "cell_type": "code",
      "metadata": {
        "id": "85c3tUs0_AKc",
        "colab_type": "code",
        "outputId": "3fef52bf-ca1f-4290-cd88-fb5f94e23436",
        "colab": {
          "base_uri": "https://localhost:8080/",
          "height": 264
        }
      },
      "source": [
        "regressed_dlm_noir.plot()"
      ],
      "execution_count": 0,
      "outputs": [
        {
          "output_type": "display_data",
          "data": {
            "image/png": "[encoded data removed]",
            "text/plain": [
              "<Figure size 432x288 with 3 Axes>"
            ]
          },
          "metadata": {
            "tags": []
          }
        }
      ]
    },
    {
      "cell_type": "markdown",
      "metadata": {
        "id": "Mb2FXfPKDOQu",
        "colab_type": "text"
      },
      "source": [
        "caption...\n"
      ]
    },
    {
      "cell_type": "markdown",
      "metadata": {
        "id": "TmvCMV_oDPam",
        "colab_type": "text"
      },
      "source": [
        "NOTE: you can probably do a much better job than I did!"
      ]
    },
    {
      "cell_type": "code",
      "metadata": {
        "id": "i5OeK816_K2k",
        "colab_type": "code",
        "outputId": "6538cc5f-8380-4582-c8d0-827e70be1463",
        "colab": {
          "base_uri": "https://localhost:8080/",
          "height": 87
        }
      },
      "source": [
        "print(....)"
      ],
      "execution_count": 0,
      "outputs": [
        {
          "output_type": "stream",
          "text": [
            "MSE model fit: \n",
            "simple 0.43,\n",
            "seasonality and CO2 + solar irradiance regression 0.35,\n",
            "seasonality and CO2 regression 0.34\n"
          ],
          "name": "stdout"
        }
      ]
    },
    {
      "cell_type": "code",
      "metadata": {
        "ExecuteTime": {
          "end_time": "2020-02-27T13:59:23.153074Z",
          "start_time": "2020-02-27T13:59:22.641076Z"
        },
        "id": "iyuwBOxyu9Yo",
        "colab_type": "code",
        "outputId": "4ccdd03a-1ed9-4746-d515-490372e928a0",
        "colab": {
          "base_uri": "https://localhost:8080/",
          "height": 264
        }
      },
      "source": [
        "simple_dlm.plot('trend')"
      ],
      "execution_count": 0,
      "outputs": [
        {
          "output_type": "display_data",
          "data": {
            "image/png": "[encoded data removed]",
            "text/plain": [
              "<Figure size 432x288 with 3 Axes>"
            ]
          },
          "metadata": {
            "tags": []
          }
        }
      ]
    },
    {
      "cell_type": "code",
      "metadata": {
        "ExecuteTime": {
          "end_time": "2020-02-27T13:59:23.815374Z",
          "start_time": "2020-02-27T13:59:23.222121Z"
        },
        "id": "6qtPwfX5u9Yq",
        "colab_type": "code",
        "outputId": "19a2a52c-7541-4e20-c0b3-bc85dd731ce3",
        "colab": {
          "base_uri": "https://localhost:8080/",
          "height": 264
        }
      },
      "source": [
        "simple_dlm.plot('seasonal11')"
      ],
      "execution_count": 0,
      "outputs": [
        {
          "output_type": "display_data",
          "data": {
            "image/png": "[encoded data removed]",
            "text/plain": [
              "<Figure size 432x288 with 3 Axes>"
            ]
          },
          "metadata": {
            "tags": []
          }
        }
      ]
    },
    {
      "cell_type": "code",
      "metadata": {
        "ExecuteTime": {
          "end_time": "2020-02-27T13:59:30.268295Z",
          "start_time": "2020-02-27T13:59:29.713663Z"
        },
        "id": "_iXwbbcyu9Yt",
        "colab_type": "code",
        "outputId": "5a00c757-d124-42c5-ef6f-d80c10d0580a",
        "colab": {
          "base_uri": "https://localhost:8080/",
          "height": 264
        }
      },
      "source": [
        "regressed_dlm.plot('regressor4')"
      ],
      "execution_count": 0,
      "outputs": [
        {
          "output_type": "display_data",
          "data": {
            "image/png": "[encoded data removed]",
            "text/plain": [
              "<Figure size 432x288 with 3 Axes>"
            ]
          },
          "metadata": {
            "tags": []
          }
        }
      ]
    },
    {
      "cell_type": "code",
      "metadata": {
        "id": "W5O5_v29AD5e",
        "colab_type": "code",
        "outputId": "6b8d9515-c921-4dd6-adf4-56b999893bd0",
        "colab": {
          "base_uri": "https://localhost:8080/",
          "height": 264
        }
      },
      "source": [
        "regressed_dlm.plot('regressor5')"
      ],
      "execution_count": 0,
      "outputs": [
        {
          "output_type": "display_data",
          "data": {
            "image/png": "[encoded data removed]",
            "text/plain": [
              "<Figure size 432x288 with 3 Axes>"
            ]
          },
          "metadata": {
            "tags": []
          }
        }
      ]
    },
    {
      "cell_type": "markdown",
      "metadata": {
        "id": "fBZFT9FaAMGM",
        "colab_type": "text"
      },
      "source": [
        "\n",
        "for one or more of your models plot the residuals and discuss them following the examples here \n",
        "https://github.com/fedhere/MLTSA_FBianco/blob/master/CodeExamples/SARIMAXDiagnostics_financialTS.ipynb\n",
        "\n",
        "**I am leaving the code here, but do discuss the plots in captions!!!**\n"
      ]
    },
    {
      "cell_type": "code",
      "metadata": {
        "ExecuteTime": {
          "end_time": "2020-02-27T14:19:07.782037Z",
          "start_time": "2020-02-27T14:19:04.698329Z"
        },
        "id": "2-LBgwJGu9Yw",
        "colab_type": "code",
        "outputId": "c694ff0b-207c-4eb1-fe88-032d9ddf82c9",
        "colab": {}
      },
      "source": [
        "pred = [np.array(simple_dlm.predict(i))[0][0][0] for i in range(len(climate.Anomaly))]\n",
        "err = [np.array(simple_dlm.predict(i))[1][0][0] for i in range(len(climate.Anomaly))]\n",
        "pl.plot(range(len(climate.Anomaly)), climate.Anomaly, label=\"Anomaly\")\n",
        "pl.errorbar(range(len(climate.Anomaly)), pred, yerr=err, label=\"prediction\")\n",
        "\n",
        "resids = (climate.Anomaly.values - pred)\n",
        "pl.errorbar(range(len(climate.Anomaly)), resids,  label=\"residuals\")\n",
        "pl.legend()\n",
        "\n",
        "pl.figure()\n",
        "pl.errorbar(range(len(climate.Anomaly)), resids,  label=\"residuals\")\n",
        "pl.legend()\n",
        "pl.figure()\n",
        "pl.hist(resids)\n",
        "\n"
      ],
      "execution_count": 0,
      "outputs": [
        {
          "output_type": "execute_result",
          "data": {
            "text/plain": [
              "(array([3., 2., 2., 1., 2., 2., 6., 3., 0., 2.]),\n",
              " array([-1.44710912, -1.19037982, -0.93365053, -0.67692124, -0.42019194,\n",
              "        -0.16346265,  0.09326665,  0.34999594,  0.60672523,  0.86345453,\n",
              "         1.12018382]),\n",
              " <a list of 10 Patch objects>)"
            ]
          },
          "metadata": {
            "tags": []
          },
          "execution_count": 282
        },
        {
          "output_type": "display_data",
          "data": {
            "image/png": "[encoded data removed]",
            "text/plain": [
              "<Figure size 432x288 with 1 Axes>"
            ]
          },
          "metadata": {
            "tags": [],
            "needs_background": "light"
          }
        },
        {
          "output_type": "display_data",
          "data": {
            "image/png": "[encoded data removed]",
            "text/plain": [
              "<Figure size 432x288 with 1 Axes>"
            ]
          },
          "metadata": {
            "tags": [],
            "needs_background": "light"
          }
        },
        {
          "output_type": "display_data",
          "data": {
            "image/png": "[encoded data removed]",
            "text/plain": [
              "<Figure size 432x288 with 1 Axes>"
            ]
          },
          "metadata": {
            "tags": [],
            "needs_background": "light"
          }
        }
      ]
    },
    {
      "cell_type": "markdown",
      "metadata": {
        "id": "7bbxTuQJDfSL",
        "colab_type": "text"
      },
      "source": [
        "caption..."
      ]
    },
    {
      "cell_type": "code",
      "metadata": {
        "ExecuteTime": {
          "end_time": "2020-02-27T14:19:11.262941Z",
          "start_time": "2020-02-27T14:19:11.141773Z"
        },
        "colab_type": "code",
        "outputId": "eb0147d8-b738-4560-ce90-2fe67a492cd6",
        "id": "0cnzWBIJAkzl",
        "colab": {}
      },
      "source": [
        "from statsmodels.graphics.gofplots import qqplot\n",
        "from matplotlib import pyplot\n",
        "# seed the random number generator\n",
        "seed(1)\n",
        "# generate univariate observations\n",
        "# q-q plot\n",
        "qqplot(resids, line='s')\n",
        "pyplot.show()"
      ],
      "execution_count": 0,
      "outputs": [
        {
          "output_type": "display_data",
          "data": {
            "image/png": "[encoded data removed]",
            "text/plain": [
              "<Figure size 432x288 with 1 Axes>"
            ]
          },
          "metadata": {
            "tags": [],
            "needs_background": "light"
          }
        }
      ]
    },
    {
      "cell_type": "markdown",
      "metadata": {
        "id": "PEE5m15UDdqD",
        "colab_type": "text"
      },
      "source": [
        "caption..."
      ]
    },
    {
      "cell_type": "code",
      "metadata": {
        "ExecuteTime": {
          "end_time": "2020-02-27T14:19:15.089938Z",
          "start_time": "2020-02-27T14:19:14.573275Z"
        },
        "colab_type": "code",
        "outputId": "9846a630-902f-4ecd-ed4d-5663b933d6e9",
        "id": "uzaKhxPGAn7n",
        "colab": {}
      },
      "source": [
        "pred = [np.array(regressed_dlm.predict(i))[0][0][0] for i in range(len(climate.Anomaly)-1)]\n",
        "err = [np.array(regressed_dlm.predict(i))[1][0][0] for i in range(len(climate.Anomaly)-1)]\n",
        "pl.plot(range(len(climate.Anomaly)), climate.Anomaly, label=\"Anomaly\")\n",
        "pl.errorbar(range(len(climate.Anomaly)-1), pred, yerr=err, label=\"prediction\")\n",
        "pl.legend()\n",
        "\n",
        "pl.figure()\n",
        "pl.plot(range(len(climate.Anomaly)), climate.Anomaly, label=\"Anomaly\")\n",
        "pl.errorbar(range(len(climate.Anomaly)-1), pred, label=\"prediction\")\n",
        "\n",
        "resids = np.abs(climate.Anomaly.values[1:] - pred)\n",
        "pl.errorbar(range(len(climate.Anomaly)-1), resids,  label=\"residuals\")\n",
        "pl.legend()\n",
        "\n",
        "pl.figure()\n",
        "pl.errorbar(range(len(climate.Anomaly)-1), resids,  label=\"residuals\")\n",
        "pl.legend()\n",
        "pl.figure()\n",
        "pl.hist(resids)\n"
      ],
      "execution_count": 0,
      "outputs": [
        {
          "output_type": "execute_result",
          "data": {
            "text/plain": [
              "(array([6., 2., 3., 0., 2., 4., 1., 1., 1., 2.]),\n",
              " array([0.05008455, 0.2710353 , 0.49198605, 0.7129368 , 0.93388755,\n",
              "        1.1548383 , 1.37578904, 1.59673979, 1.81769054, 2.03864129,\n",
              "        2.25959204]),\n",
              " <a list of 10 Patch objects>)"
            ]
          },
          "metadata": {
            "tags": []
          },
          "execution_count": 287
        },
        {
          "output_type": "display_data",
          "data": {
            "image/png": "[encoded data removed]",
            "text/plain": [
              "<Figure size 432x288 with 1 Axes>"
            ]
          },
          "metadata": {
            "tags": [],
            "needs_background": "light"
          }
        },
        {
          "output_type": "display_data",
          "data": {
            "image/png": "[encoded data removed]",
            "text/plain": [
              "<Figure size 432x288 with 1 Axes>"
            ]
          },
          "metadata": {
            "tags": [],
            "needs_background": "light"
          }
        },
        {
          "output_type": "display_data",
          "data": {
            "image/png": "[encoded data removed]",
            "text/plain": [
              "<Figure size 432x288 with 1 Axes>"
            ]
          },
          "metadata": {
            "tags": [],
            "needs_background": "light"
          }
        },
        {
          "output_type": "display_data",
          "data": {
            "image/png": "[encoded data removed]",
            "text/plain": [
              "<Figure size 432x288 with 1 Axes>"
            ]
          },
          "metadata": {
            "tags": [],
            "needs_background": "light"
          }
        }
      ]
    },
    {
      "cell_type": "code",
      "metadata": {
        "ExecuteTime": {
          "end_time": "2020-02-27T14:19:25.944800Z",
          "start_time": "2020-02-27T14:19:25.824453Z"
        },
        "id": "s8rgdsTau9ZA",
        "colab_type": "code",
        "outputId": "2faedf3f-1387-4e50-bff8-d471d846b2e3",
        "colab": {}
      },
      "source": [
        "from statsmodels.graphics.gofplots import qqplot\n",
        "from matplotlib import pyplot\n",
        "# seed the random number generator\n",
        "seed(1)\n",
        "# generate univariate observations\n",
        "# q-q plot\n",
        "qqplot(resids, line='s')\n",
        "pyplot.show()"
      ],
      "execution_count": 0,
      "outputs": [
        {
          "output_type": "display_data",
          "data": {
            "image/png": "[encoded data removed]",
            "text/plain": [
              "<Figure size 432x288 with 1 Axes>"
            ]
          },
          "metadata": {
            "tags": [],
            "needs_background": "light"
          }
        }
      ]
    },
    {
      "cell_type": "code",
      "metadata": {
        "ExecuteTime": {
          "end_time": "2020-02-27T14:19:29.111103Z",
          "start_time": "2020-02-27T14:19:29.106626Z"
        },
        "colab_type": "code",
        "outputId": "ddf18142-c311-425d-f904-7b356403f364",
        "id": "nRpzzbJmAs89",
        "colab": {}
      },
      "source": [
        "seed(1)\n",
        "# generate univariate observations\n",
        "# normality test\n",
        "stat, p = shapiro(resids)\n",
        "print('Statistics=%.3f, p=%.3f' % (stat, p))\n",
        "# interpret\n",
        "alpha = 0.05\n",
        "if p > alpha:\n",
        "    print('Sample looks Gaussian (fail to reject H0)')\n",
        "else:\n",
        "    print('Sample does not look Gaussian (reject H0)')"
      ],
      "execution_count": 0,
      "outputs": [
        {
          "output_type": "stream",
          "text": [
            "Statistics=0.929, p=0.118\n",
            "Sample looks Gaussian (fail to reject H0)\n"
          ],
          "name": "stdout"
        }
      ]
    }
  ]
}